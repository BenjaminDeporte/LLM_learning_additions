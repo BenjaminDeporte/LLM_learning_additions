{
 "cells": [
  {
   "cell_type": "markdown",
   "id": "80517dbc",
   "metadata": {
    "id": "80517dbc"
   },
   "source": [
    "# Teach an LLM to do additions"
   ]
  },
  {
   "cell_type": "markdown",
   "id": "0aaca18f",
   "metadata": {},
   "source": [
    "The goal of this project is to teach an LLM to do additions, playing only with two parts:\n",
    "* the tokenizer\n",
    "* the positional embedding\n",
    "\n",
    "Both the model and the dataset are fixed.\n",
    "\n",
    "You are allowed to tune the hyperparameters, but this is not the main goal. Depending on the quality of your tokenizer and positional embedding, you may change the number of bits. The initial value of 3 is very small."
   ]
  },
  {
   "cell_type": "code",
   "execution_count": 1,
   "id": "ae993bb9",
   "metadata": {
    "id": "ae993bb9"
   },
   "outputs": [],
   "source": [
    "import torch\n",
    "from torch import nn\n",
    "from torch.nn import functional as F\n",
    "\n",
    "import random\n",
    "import math\n",
    "import re\n",
    "import time\n",
    "\n",
    "import matplotlib.pyplot as plt"
   ]
  },
  {
   "cell_type": "code",
   "execution_count": 2,
   "id": "OzGh9ahKF17h",
   "metadata": {
    "id": "OzGh9ahKF17h"
   },
   "outputs": [],
   "source": [
    "number_bits = 4\n",
    "\n",
    "dataset_size = 1_024_000\n",
    "train_proportion = 0.9\n",
    "\n",
    "log_interval = 200\n",
    "# large batch_size for GPU\n",
    "batch_size = 256\n",
    "# learning_rate beefed up\n",
    "learning_rate = 1e-3\n",
    "\n",
    "epochs = 4"
   ]
  },
  {
   "cell_type": "markdown",
   "id": "6c054bed",
   "metadata": {
    "id": "6c054bed"
   },
   "source": [
    "## Step 1: Construct a tokenizer"
   ]
  },
  {
   "cell_type": "code",
   "execution_count": 3,
   "id": "t6aC9uNeIR6C",
   "metadata": {
    "id": "t6aC9uNeIR6C"
   },
   "outputs": [],
   "source": [
    "pad_token=\"[PAD]\"\n",
    "eos_token=\"[EOS]\""
   ]
  },
  {
   "cell_type": "markdown",
   "id": "BMvT0B-MGBnY",
   "metadata": {
    "id": "BMvT0B-MGBnY"
   },
   "source": [
    "### Baseline: character-level tokenizer"
   ]
  },
  {
   "cell_type": "code",
   "execution_count": 4,
   "id": "g2QiF-otFur3",
   "metadata": {
    "id": "g2QiF-otFur3"
   },
   "outputs": [],
   "source": [
    "class character_level_tokenizer:\n",
    "    \"\"\"\n",
    "    character-level\n",
    "    \"\"\"\n",
    "    def __init__(self):\n",
    "        self.vocab = [str(x) for x in range(10)] + [\"+\", \"=\"] + [pad_token, eos_token]\n",
    "        self.token_to_id = {v : k for k, v in enumerate(self.vocab)}\n",
    "        self.id_to_token = {k : v for k, v in enumerate(self.vocab)}\n",
    "        self.ntokens = len(self.vocab)\n",
    "        self.pattern = f\"[^{re.escape(''.join(self.vocab))}]\"\n",
    "    \n",
    "    def clean(self, text):\n",
    "        \"\"\"\n",
    "        removes all characters not in the vocabulary\n",
    "        \"\"\"\n",
    "        out = re.sub(self.pattern, \"\", text)\n",
    "        return out\n",
    "\n",
    "    def pre_tokenization(self, text):\n",
    "        \"\"\"\n",
    "        character-level\n",
    "        \"\"\"\n",
    "        return [c for c in text]\n",
    "\n",
    "    def encode(self, text):\n",
    "        text_list = self.pre_tokenization(self.clean(text))\n",
    "        return [self.token_to_id[c] for c in text_list]\n",
    "\n",
    "    def decode(self, token_list):\n",
    "        return \"\".join([self.id_to_token[x] for x in token_list])"
   ]
  },
  {
   "cell_type": "code",
   "execution_count": 5,
   "id": "QuCc6jF5F8hK",
   "metadata": {
    "id": "QuCc6jF5F8hK"
   },
   "outputs": [
    {
     "data": {
      "text/plain": [
       "14"
      ]
     },
     "execution_count": 5,
     "metadata": {},
     "output_type": "execute_result"
    }
   ],
   "source": [
    "tokenizer = character_level_tokenizer()\n",
    "ntokens = tokenizer.ntokens\n",
    "ntokens"
   ]
  },
  {
   "cell_type": "code",
   "execution_count": 6,
   "id": "8FXW2K-1Jd-P",
   "metadata": {
    "colab": {
     "base_uri": "https://localhost:8080/"
    },
    "id": "8FXW2K-1Jd-P",
    "outputId": "349a4033-9fce-462b-f0d5-1bb3a7ffd340"
   },
   "outputs": [
    {
     "data": {
      "text/plain": [
       "([1, 2, 10, 4, 2, 11], '12+42=')"
      ]
     },
     "execution_count": 6,
     "metadata": {},
     "output_type": "execute_result"
    }
   ],
   "source": [
    "prompt = \"12 + 42 =\"\n",
    "inputs = tokenizer.encode(prompt)\n",
    "inputs, tokenizer.decode(inputs)"
   ]
  },
  {
   "cell_type": "markdown",
   "id": "j3gckvebGGYt",
   "metadata": {
    "id": "j3gckvebGGYt"
   },
   "source": [
    "# Implement your tokenizer here!\n",
    "\n",
    "You can do anything (as long as you do not compute the addition!).\n",
    "Some ideas:\n",
    "* reversing numbers left to right\n",
    "* arranging by groups (of, 2, 3,...)\n",
    "* aligning numbers"
   ]
  },
  {
   "cell_type": "code",
   "execution_count": 7,
   "id": "2ec36c32",
   "metadata": {},
   "outputs": [],
   "source": [
    "class TheTentativeTokenizer:\n",
    "    \"\"\"OK, this is my attempt to make a tokenizer.\n",
    "    The idea is simple :\n",
    "    1- clean up : remove all characters that are not numeric, nor '+' nor '='\n",
    "    2- assuming the prompts are \"a + b =\" : \n",
    "        2.1- split the prompt to get two lists of characters corresponding to a and b\n",
    "        2.2- work backward, ie from the rightmost character to the leftmost character in a and b\n",
    "        2.3- if one of the character is None (end of list), replace by [PAD]\n",
    "        2.4- form tuples (character 1, character 2). This is a token.\n",
    "    3- return all tokens\n",
    "    As a result, the vocabulary is the set of tuples (char 1 x char 2) where char 1 and 2 are in [0-9, +, =, [PAD]]. Plus [EOS] special token.\n",
    "    \"\"\"\n",
    "    \n",
    "    pad_token=\"[PAD]\"\n",
    "    eos_token=\"[EOS]\"\n",
    "\n",
    "    def __init__(self):\n",
    "        self.unit_token_list = [str(x) for x in range(10)] + [\"+\", \"=\"] + [self.pad_token, self.eos_token]\n",
    "        self.pattern = f\"[^{re.escape(''.join(self.unit_token_list))}]\"\n",
    "        self.vocab = [ (c1, c2) for c1 in self.unit_token_list for c2 in self.unit_token_list ] # not all tokens will ever be used, but never mind\n",
    "        self.token_to_id = {v : k for k, v in enumerate(self.vocab)}\n",
    "        self.id_to_token = {k : v for k, v in enumerate(self.vocab)}\n",
    "        self.ntokens = len(self.vocab)\n",
    "        \n",
    "    def clean(self, text):\n",
    "        \"\"\"\n",
    "        removes all characters not in the unit character list\n",
    "        \"\"\"\n",
    "        out = re.sub(self.pattern, \"\", text)\n",
    "        return out\n",
    "    \n",
    "    def encode(self, text):\n",
    "        \"\"\"_summary_\n",
    "\n",
    "        Args:\n",
    "            text (_type_): prompt as an input. Assumes to be \"a + b = \" where a and b are strings with integers.\n",
    "\n",
    "        Returns:\n",
    "            tokens (list): list of tokens, each token being an integer\n",
    "        \"\"\"\n",
    "        \n",
    "        # remove all characters not in the vocabulary\n",
    "        cleaned_text = self.clean(text)\n",
    "        # split the prompt in two operands, remove everything else\n",
    "        pattern = r'\\+'\n",
    "        operands = re.split(pattern, cleaned_text)\n",
    "        # streamline the two operands\n",
    "        pattern = r'[ =]'\n",
    "        cleaned_operands = []\n",
    "        for op in operands:\n",
    "            c_op = re.sub(pattern, '', op)\n",
    "            cleaned_operands.append(c_op)\n",
    "        # build two lists of characters out of the cleaned operands\n",
    "        list1 = [c for c in cleaned_operands[0]]\n",
    "        list2 = [c for c in cleaned_operands[1]]\n",
    "        # work backward, egalize lengths and form tokens\n",
    "        tokens = []\n",
    "        pairs = []\n",
    "        list1.reverse()\n",
    "        list2.reverse()\n",
    "        if len(list1) < len(list2):\n",
    "            list1 = list1 + [self.pad_token] * (len(list2) - len(list1))\n",
    "        if len(list2) < len(list1):\n",
    "            list2 = list2 + [self.pad_token] * (len(list1) - len(list2))\n",
    "        # print(f\"list1 = {list1}\")\n",
    "        # print(f\"list2 = {list2}\")\n",
    "        for c1, c2 in zip(list1, list2):\n",
    "            pair = (c1, c2)\n",
    "            # print(pair)\n",
    "            tokens.append(self.token_to_id[pair])\n",
    "            pairs.append(pair)\n",
    "        \n",
    "        return tokens, pairs\n",
    "        \n",
    "    def decode(self, token_list):\n",
    "        \"\"\"Take the token list, find the associated pairs of characters, reverse and concatenate them to form the prompt\n",
    "\n",
    "        Args:\n",
    "            token_list (_type_): list of integers\n",
    "\n",
    "        Returns:\n",
    "            string : reconstructed prompt\n",
    "        \"\"\"\n",
    "        \n",
    "        list1 = []\n",
    "        list2 = []\n",
    "        # decompose the token list, find the associated pairs, create the two lists\n",
    "        for token in token_list:\n",
    "            pair = self.id_to_token[token]\n",
    "            c1 = pair[0]\n",
    "            c2 = pair[1]\n",
    "            if c1 != self.pad_token:\n",
    "                list1.append(c1)\n",
    "            if c2 != self.pad_token:\n",
    "                list2.append(c2)\n",
    "        # reverse and form the prompt\n",
    "        list1.reverse()\n",
    "        list2.reverse()\n",
    "        prompt = \"\".join(list1) + \" + \" + \"\".join(list2) + \" = \"\n",
    "            \n",
    "        return prompt"
   ]
  },
  {
   "cell_type": "code",
   "execution_count": 8,
   "id": "be232e5a",
   "metadata": {},
   "outputs": [
    {
     "name": "stdout",
     "output_type": "stream",
     "text": [
      "original prompt : '1245 + 347582 ='\n",
      "encoded prompt : [72, 64, 33, 21, 172, 171]\n",
      "pairs = [('5', '2'), ('4', '8'), ('2', '5'), ('1', '7'), ('[PAD]', '4'), ('[PAD]', '3')]\n",
      "decoded token list : '1245 + 347582 = '\n"
     ]
    }
   ],
   "source": [
    "# tests\n",
    "\n",
    "tok = TheTentativeTokenizer()\n",
    "\n",
    "prompt = \"1245 + 347582 =\"\n",
    "print(f\"original prompt : '{prompt}'\")\n",
    "\n",
    "token_list, pair_list = tok.encode(prompt)\n",
    "print(f\"encoded prompt : {token_list}\")\n",
    "print(f\"pairs = {pair_list}\")\n",
    "\n",
    "dec = tok.decode(token_list=token_list)\n",
    "print(f\"decoded token list : '{dec}'\")"
   ]
  },
  {
   "cell_type": "markdown",
   "id": "491af297",
   "metadata": {
    "id": "491af297"
   },
   "source": [
    "## Step 2: Create a dataset for arithmetic operations"
   ]
  },
  {
   "cell_type": "code",
   "execution_count": 9,
   "id": "daa90f31",
   "metadata": {
    "colab": {
     "base_uri": "https://localhost:8080/"
    },
    "id": "daa90f31",
    "outputId": "3e8719ee-d8fa-4984-8b51-4db3457f7dbc"
   },
   "outputs": [
    {
     "data": {
      "text/plain": [
       "('4645+2076=', '6721')"
      ]
     },
     "execution_count": 9,
     "metadata": {},
     "output_type": "execute_result"
    }
   ],
   "source": [
    "def sample_datapoint(number_bits = 3):\n",
    "    \"\"\"\n",
    "    returns a string containing two random numbers on `number_bits` many bits and their sum.\n",
    "    \"\"\"\n",
    "    a_list = [random.randint(0, 9) for _ in range(number_bits)]\n",
    "    b_list = [random.randint(0, 9) for _ in range(number_bits)]\n",
    "    a_int = int(\"\".join([str(x) for x in a_list]))\n",
    "    b_int = int(\"\".join([str(x) for x in b_list]))\n",
    "    sum_int = a_int + b_int\n",
    "    return (str(a_int) + \"+\" + str(b_int) + \"=\", str(sum_int))\n",
    "\n",
    "sample_datapoint(number_bits=number_bits)"
   ]
  },
  {
   "cell_type": "code",
   "execution_count": 10,
   "id": "b6e861d2",
   "metadata": {
    "colab": {
     "base_uri": "https://localhost:8080/"
    },
    "id": "b6e861d2",
    "outputId": "c88c2226-0546-473c-c296-88a52823886b"
   },
   "outputs": [
    {
     "data": {
      "text/plain": [
       "[('8759+1468=', '10227'),\n",
       " ('1675+1724=', '3399'),\n",
       " ('9606+9509=', '19115'),\n",
       " ('3737+8127=', '11864')]"
      ]
     },
     "execution_count": 10,
     "metadata": {},
     "output_type": "execute_result"
    }
   ],
   "source": [
    "data = []\n",
    "for _ in range(dataset_size):\n",
    "    data.append(sample_datapoint(number_bits))\n",
    "data[:4]"
   ]
  },
  {
   "cell_type": "code",
   "execution_count": 11,
   "id": "fee85050",
   "metadata": {
    "colab": {
     "base_uri": "https://localhost:8080/"
    },
    "id": "fee85050",
    "outputId": "f080f4b0-fd76-48d8-d59f-7c118b6e6fe9"
   },
   "outputs": [
    {
     "data": {
      "text/plain": [
       "(921600, 102400)"
      ]
     },
     "execution_count": 11,
     "metadata": {},
     "output_type": "execute_result"
    }
   ],
   "source": [
    "data_train = data[: int(train_proportion * dataset_size)]\n",
    "data_test = data[int(train_proportion * dataset_size):]\n",
    "\n",
    "len(data_train),len(data_test)"
   ]
  },
  {
   "cell_type": "markdown",
   "id": "37200598",
   "metadata": {
    "id": "37200598"
   },
   "source": [
    "## Step 3: Construct a model"
   ]
  },
  {
   "cell_type": "markdown",
   "id": "0fd7d2eb",
   "metadata": {},
   "source": [
    "### Baseline: the classical Positional Embedding"
   ]
  },
  {
   "cell_type": "code",
   "execution_count": 12,
   "id": "91674239",
   "metadata": {
    "id": "91674239"
   },
   "outputs": [],
   "source": [
    "class PositionalEmbedding(nn.Module):\n",
    "    r\"\"\"Inject some information about the relative or absolute position of the tokens in the sequence.\n",
    "        The positional encodings have the same dimension as the embeddings, so that the two can be summed.\n",
    "        Here, we use sine and cosine functions of different frequencies.\n",
    "    .. math:\n",
    "        \\text{PosEmbedder}(pos, 2i) = sin(pos/10000^(2i/d_model))\n",
    "        \\text{PosEmbedder}(pos, 2i+1) = cos(pos/10000^(2i/d_model))\n",
    "        \\text{where pos is the word position and i is the embed idx)\n",
    "    Args:\n",
    "        d_model: the embed dim (required).\n",
    "        dropout: the dropout value (default=0.1).\n",
    "        max_len: the max. length of the incoming sequence (default=5000).\n",
    "    \"\"\"\n",
    "\n",
    "    def __init__(self, d_model, dropout=0.1, max_len=5000):\n",
    "        super(PositionalEmbedding, self).__init__()\n",
    "        self.dropout = nn.Dropout(p=dropout)\n",
    "\n",
    "        pe = torch.zeros(max_len, d_model)\n",
    "        position = torch.arange(0, max_len, dtype=torch.float).unsqueeze(1)\n",
    "        # print(f\"position : {position.size()}\")\n",
    "        div_term = torch.exp(torch.arange(0, d_model, 2).float() * (-math.log(10000.0) / d_model))\n",
    "        pe[:, 0::2] = torch.sin(position * div_term)\n",
    "        pe[:, 1::2] = torch.cos(position * div_term)\n",
    "        pe = pe.unsqueeze(0).transpose(0, 1)\n",
    "        # print(f\"pe = {pe}\")\n",
    "        # print(f\"pe = {pe.size()}\")\n",
    "        self.register_buffer('pe', pe)\n",
    "\n",
    "    def forward(self, x):\n",
    "        r\"\"\"Inputs of forward function\n",
    "        Args:\n",
    "            x: the sequence fed to the positional encoder model (required).\n",
    "        Shape:\n",
    "            x: [sequence length, batch size, embed dim]\n",
    "            output: [sequence length, batch size, embed dim]\n",
    "        \"\"\"\n",
    "\n",
    "        x = x + self.pe[:x.size(0), :]\n",
    "        return self.dropout(x)"
   ]
  },
  {
   "cell_type": "markdown",
   "id": "8296ceb2",
   "metadata": {},
   "source": [
    "# Implement your positional embedding here!\n",
    "\n",
    "You can do anything. Some ideas:\n",
    "* RoPE\n",
    "* (randomised) FIRE\n",
    "* Abacus\n",
    "\n",
    "**!!! IMPORTANT !!!** This model of Transformers is \"input first\", meaning that an input is a tensor with shape\n",
    "(length_prompts, batch_size)"
   ]
  },
  {
   "cell_type": "markdown",
   "id": "0e1d4fe0",
   "metadata": {},
   "source": [
    "### Abacus embedding seems straightforward to implement with good results : https://arxiv.org/html/2405.17399v1#S3.F2"
   ]
  },
  {
   "cell_type": "markdown",
   "id": "59795a4e",
   "metadata": {},
   "source": [
    "### Abacus \n",
    "\n",
    "https://arxiv.org/html/2405.17399v1#S3.F2\n",
    "\n",
    "Quote :\n",
    "\n",
    "\"To address the limitations of transformers at representing positional information, we design a specially built positional embedding that encodes the location of each digit relative to the start of the current number. We call this Abacus Embeddings. We apply the same positional embedding to all digits of the same significance, providing an explicit signal that the model can use to align digits. \n",
    "\n",
    "We take inspiration from Randomized Embeddings (Ruoss et al., 2023) but instead of using random ascending indices to represent positions in a sample, we use consecutive ascending indices with a random starting position to allow for length generalization. Specifically, during training we give consecutive positional embeddings to each digit in a number, starting from a randomly chosen offset value from $U \\in [1,k]$, where k is a hyperparameter. Unless otherwise stated the default value for k in this study is 100. \n",
    "\n",
    "For example, if the input is 123, the positional encodings are $\\beta, \\beta+1, \\beta+2$, where $\\beta \\sim U \\in [1,100]$ which are then passed through a learned embedding matrix. The value sampled from $U \\in [1,k]$ is the same for all numbers in a batch, meaning all digits of the same significance obtain the same positional embedding. This training scheme allows the model to see a wide range of positional embeddings, even when training sequences are short. At test time, each positional embedding begins from one, i.e. $\\beta = 1$\""
   ]
  },
  {
   "cell_type": "markdown",
   "id": "28bd8b95",
   "metadata": {},
   "source": [
    "### Some thoughts on positional encoding\n",
    "\n",
    "In our case, the numbers of same significance (ie at the same position in the operands) are already grouped by the tokenizer.\n",
    "\n",
    "So the position of the token itself, should be representative of the relative positions of each digit.\n",
    "\n",
    "Should the vanilla positional embedding be enough ?"
   ]
  },
  {
   "cell_type": "code",
   "execution_count": 13,
   "id": "589793fc",
   "metadata": {},
   "outputs": [],
   "source": [
    "# class TheTentativePositionalEmbedding(nn.Module):\n",
    "#         def __init__(self, d_model, dropout=0.1, max_len=5000):\n",
    "#                 super(PositionalEmbedding, self).__init__()\n",
    "#                 self.dropout = nn.Dropout(p=dropout)\n",
    "\n",
    "#         # pe = torch.zeros(max_len, d_model)\n",
    "#         # position = torch.arange(0, max_len, dtype=torch.float).unsqueeze(1)\n",
    "#         # print(f\"position : {position.size()}\")\n",
    "#         # div_term = torch.exp(torch.arange(0, d_model, 2).float() * (-math.log(10000.0) / d_model))\n",
    "#         # pe[:, 0::2] = torch.sin(position * div_term)\n",
    "#         # pe[:, 1::2] = torch.cos(position * div_term)\n",
    "#         # pe = pe.unsqueeze(0).transpose(0, 1)\n",
    "#         # print(f\"pe = {pe}\")\n",
    "#         # print(f\"pe = {pe.size()}\")\n",
    "#         # self.register_buffer('pe', pe)\n",
    "        \n",
    "#         def forward(self, x):\n",
    "#                 r\"\"\"Inputs of forward function\n",
    "#                 Args:\n",
    "#                 x: the sequence fed to the positional encoder model (required).\n",
    "#                 Shape:\n",
    "#                 x: [sequence length, batch size, embed dim]\n",
    "#                 output: [sequence length, batch size, embed dim]\n",
    "#                 \"\"\"\n",
    "#                 pass\n",
    "\n",
    "#         # x = x + self.pe[:x.size(0), :]\n",
    "#         # return self.dropout(x)"
   ]
  },
  {
   "cell_type": "code",
   "execution_count": 14,
   "id": "4eb278ab",
   "metadata": {
    "id": "4eb278ab"
   },
   "outputs": [],
   "source": [
    "class TransformerModel(nn.Transformer):\n",
    "    def __init__(self, ntoken, ninp, nhead, nhid, nlayers, dropout=0.5):\n",
    "        super(TransformerModel, self).__init__(d_model=ninp,\n",
    "                                               nhead=nhead,\n",
    "                                               dim_feedforward=nhid,\n",
    "                                               num_encoder_layers=nlayers)\n",
    "        self.input_emb = nn.Embedding(ntoken, ninp)\n",
    "        self.pos_encoder = PositionalEmbedding(ninp, dropout)\n",
    "        self.decoder = nn.Linear(ninp, ntoken)\n",
    "\n",
    "        self.ninp = ninp\n",
    "        self.init_weights()\n",
    "\n",
    "    def init_weights(self):\n",
    "        initrange = 0.1\n",
    "        nn.init.uniform_(self.input_emb.weight, -initrange, initrange)\n",
    "        nn.init.zeros_(self.decoder.bias)\n",
    "        nn.init.uniform_(self.decoder.weight, -initrange, initrange)\n",
    "\n",
    "    def _generate_square_subsequent_mask(self, sz):\n",
    "        return torch.log(torch.tril(torch.ones(sz,sz)))\n",
    "\n",
    "    def forward(self, src):\n",
    "        mask = self._generate_square_subsequent_mask(len(src)).to(device)\n",
    "        self.src_mask = mask\n",
    "\n",
    "        src = self.input_emb(src) * math.sqrt(self.ninp)\n",
    "        src = self.pos_encoder(src)\n",
    "        output_enc = self.encoder(src, mask=self.src_mask)\n",
    "        output_dec = self.decoder(output_enc)\n",
    "        return F.log_softmax(output_dec, dim=-1), output_enc"
   ]
  },
  {
   "cell_type": "code",
   "execution_count": 15,
   "id": "42f9d1ee",
   "metadata": {},
   "outputs": [
    {
     "name": "stdout",
     "output_type": "stream",
     "text": [
      "cuda\n"
     ]
    }
   ],
   "source": [
    "device = torch.device(\"cuda\" if torch.cuda.is_available() else \"cpu\")\n",
    "print(device)"
   ]
  },
  {
   "cell_type": "markdown",
   "id": "a30e093a",
   "metadata": {},
   "source": [
    "Please do not change these parameters!"
   ]
  },
  {
   "cell_type": "code",
   "execution_count": 16,
   "id": "1d568cc4",
   "metadata": {
    "colab": {
     "base_uri": "https://localhost:8080/"
    },
    "id": "1d568cc4",
    "outputId": "f7f78975-2bdf-4c36-de35-3e140636d476"
   },
   "outputs": [
    {
     "name": "stderr",
     "output_type": "stream",
     "text": [
      "/home/benjamin.deporte/.conda/envs/LLM/lib/python3.12/site-packages/torch/nn/modules/transformer.py:286: UserWarning: enable_nested_tensor is True, but self.use_nested_tensor is False because encoder_layer.self_attn.batch_first was not True(use batch_first for better inference performance)\n",
      "  warnings.warn(f\"enable_nested_tensor is True, but self.use_nested_tensor is False because {why_not_sparsity_fast_path}\")\n"
     ]
    },
    {
     "data": {
      "text/plain": [
       "TransformerModel(\n",
       "  (encoder): TransformerEncoder(\n",
       "    (layers): ModuleList(\n",
       "      (0-7): 8 x TransformerEncoderLayer(\n",
       "        (self_attn): MultiheadAttention(\n",
       "          (out_proj): NonDynamicallyQuantizableLinear(in_features=128, out_features=128, bias=True)\n",
       "        )\n",
       "        (linear1): Linear(in_features=128, out_features=64, bias=True)\n",
       "        (dropout): Dropout(p=0.1, inplace=False)\n",
       "        (linear2): Linear(in_features=64, out_features=128, bias=True)\n",
       "        (norm1): LayerNorm((128,), eps=1e-05, elementwise_affine=True)\n",
       "        (norm2): LayerNorm((128,), eps=1e-05, elementwise_affine=True)\n",
       "        (dropout1): Dropout(p=0.1, inplace=False)\n",
       "        (dropout2): Dropout(p=0.1, inplace=False)\n",
       "      )\n",
       "    )\n",
       "    (norm): LayerNorm((128,), eps=1e-05, elementwise_affine=True)\n",
       "  )\n",
       "  (decoder): Linear(in_features=128, out_features=14, bias=True)\n",
       "  (input_emb): Embedding(14, 128)\n",
       "  (pos_encoder): PositionalEmbedding(\n",
       "    (dropout): Dropout(p=0.5, inplace=False)\n",
       "  )\n",
       ")"
      ]
     },
     "execution_count": 16,
     "metadata": {},
     "output_type": "execute_result"
    }
   ],
   "source": [
    "model = TransformerModel(ntoken = ntokens,\n",
    "                         ninp = 128,\n",
    "                         nhead = 16,\n",
    "                         nhid = 64,\n",
    "                         nlayers = 8)\n",
    "model.to(device)"
   ]
  },
  {
   "cell_type": "code",
   "execution_count": 17,
   "id": "8f2f06e0",
   "metadata": {
    "id": "8f2f06e0"
   },
   "outputs": [],
   "source": [
    "def generate(model, prompts, new_tokens = 5):\n",
    "    input_tensor = prompts # (length_prompts, batch_size)\n",
    "    input_tensor = input_tensor.to(device)\n",
    "    for _ in range(new_tokens):\n",
    "        output, _ = model(input_tensor) # (length_prompts, batch_size, ntokens)\n",
    "        last_output = output[-1,:,:] # (batch_size, ntokens)\n",
    "        token = torch.argmax(last_output, -1).view((1,-1)) # (1, batch_size)\n",
    "        input_tensor = torch.cat((input_tensor, token), 0)\n",
    "    return input_tensor"
   ]
  },
  {
   "cell_type": "code",
   "execution_count": 18,
   "id": "d76d1b19",
   "metadata": {
    "colab": {
     "base_uri": "https://localhost:8080/"
    },
    "id": "d76d1b19",
    "outputId": "a1df1dc9-2ecc-4de4-85b2-6bc5bd460439"
   },
   "outputs": [
    {
     "data": {
      "text/plain": [
       "(tensor([[ 2, 10,  3, 11,  9,  9,  9,  9,  9]], device='cuda:0'), '2+3=99999')"
      ]
     },
     "execution_count": 18,
     "metadata": {},
     "output_type": "execute_result"
    }
   ],
   "source": [
    "model.eval()\n",
    "\n",
    "prompt = \"2+3=\"\n",
    "prompt_tensor = torch.tensor(tokenizer.encode(prompt)).view((-1,1))\n",
    "output = generate(model, prompt_tensor).view((1,-1))\n",
    "output, tokenizer.decode(output.tolist()[0])"
   ]
  },
  {
   "cell_type": "code",
   "execution_count": 19,
   "id": "00954ddc",
   "metadata": {
    "id": "00954ddc"
   },
   "outputs": [],
   "source": [
    "def pad(token_list, type_list = \"prompts\"):\n",
    "    max_length = max([len(x) for x in token_list])\n",
    "    out = []\n",
    "    for x in token_list:\n",
    "        if type_list == \"prompts\":\n",
    "            out.append([tokenizer.token_to_id[pad_token]] * (max_length - len(x)) + x)\n",
    "        if type_list == \"answers\":\n",
    "            out.append(x + [tokenizer.token_to_id[eos_token]] + [tokenizer.token_to_id[pad_token]] * (max_length - len(x)))\n",
    "    return out, max_length"
   ]
  },
  {
   "cell_type": "code",
   "execution_count": 20,
   "id": "2c84beab",
   "metadata": {
    "colab": {
     "base_uri": "https://localhost:8080/"
    },
    "id": "2c84beab",
    "outputId": "fc1bea13-d6e1-4a55-b70d-36de00bcec9b"
   },
   "outputs": [
    {
     "data": {
      "text/plain": [
       "(['[PAD][PAD]1+1=', '21+35='], ['2[EOS][PAD]', '56[EOS]'])"
      ]
     },
     "execution_count": 20,
     "metadata": {},
     "output_type": "execute_result"
    }
   ],
   "source": [
    "prompts = [tokenizer.encode(\"1+1=\"), tokenizer.encode(\"21+35=\")]\n",
    "answers = [tokenizer.encode(\"2\"), tokenizer.encode(\"56\")]\n",
    "padded_prompts, _ = pad(prompts, \"prompts\")\n",
    "padded_answers, _ = pad(answers, \"answers\")\n",
    "padded_prompts, padded_answers\n",
    "[tokenizer.decode(p) for p in padded_prompts], [tokenizer.decode(p) for p in padded_answers]"
   ]
  },
  {
   "cell_type": "code",
   "execution_count": 21,
   "id": "264f9227",
   "metadata": {
    "id": "264f9227"
   },
   "outputs": [],
   "source": [
    "def get_batch(split, i):\n",
    "    data = data_train if split == 'train' else data_test\n",
    "    prompts = [tokenizer.encode(data[i][0]) for i in range(i, i + batch_size)]\n",
    "    padded_prompts, length_prompts = pad(prompts, \"prompts\")\n",
    "    answers = [tokenizer.encode(data[i][1]) for i in range(i, i + batch_size)]\n",
    "    padded_answers, length_answers = pad(answers, \"answers\")\n",
    "    X = torch.stack([torch.tensor(x) for x in padded_prompts], 1)\n",
    "    Y = torch.stack([torch.tensor(x) for x in padded_answers], 1)\n",
    "    return X, Y, length_prompts, length_answers"
   ]
  },
  {
   "cell_type": "code",
   "execution_count": 22,
   "id": "91e281ad",
   "metadata": {
    "colab": {
     "base_uri": "https://localhost:8080/"
    },
    "id": "91e281ad",
    "outputId": "22e2d0ee-ede4-41f8-e089-fb63ac2d9787"
   },
   "outputs": [
    {
     "data": {
      "text/plain": [
       "(torch.Size([10, 256]), torch.Size([6, 256]), 10, 5)"
      ]
     },
     "execution_count": 22,
     "metadata": {},
     "output_type": "execute_result"
    }
   ],
   "source": [
    "X, Y, length_prompts, length_answers = get_batch(\"train\", 243)\n",
    "X.shape, Y.shape, length_prompts, length_answers"
   ]
  },
  {
   "cell_type": "markdown",
   "id": "113e1fd1",
   "metadata": {
    "id": "113e1fd1"
   },
   "source": [
    "## Step 4: Evaluate"
   ]
  },
  {
   "cell_type": "code",
   "execution_count": 23,
   "id": "1cfcd10a",
   "metadata": {
    "id": "1cfcd10a"
   },
   "outputs": [],
   "source": [
    "def evaluate():\n",
    "    # Turn on evaluation mode disables dropout.\n",
    "    model.eval()\n",
    "    correct = 0.\n",
    "    with torch.no_grad():\n",
    "        for batch, i in enumerate(range(0, len(data_test) - 1, batch_size)):\n",
    "            prompts, target_answers, length_prompts, length_answers = get_batch(\"test\", i)\n",
    "            prompts = prompts.to(device) # (length_prompts, batch_size)\n",
    "            target_answers = target_answers.to(device) # (length_answers + 1, batch_size)\n",
    "            output = generate(model, prompts, length_answers + 1) # (length_prompts + length_answers + 1, batch_size)\n",
    "            answers_tokens = output[length_prompts:, :] # (length_answers + 1, batch_size), contains tokens\n",
    "            equality_test = answers_tokens == target_answers # (length_answers + 1, batch_size), contains boolean values\n",
    "            correct += torch.all(equality_test, axis=0).float().sum()\n",
    "        accuracy = correct / len(data_test)\n",
    "    return accuracy.item()"
   ]
  },
  {
   "cell_type": "code",
   "execution_count": 24,
   "id": "ac335b05",
   "metadata": {
    "colab": {
     "base_uri": "https://localhost:8080/"
    },
    "id": "ac335b05",
    "outputId": "b475e943-51b3-401d-d18b-c9d32a49ffb6"
   },
   "outputs": [
    {
     "data": {
      "text/plain": [
       "0.0"
      ]
     },
     "execution_count": 24,
     "metadata": {},
     "output_type": "execute_result"
    }
   ],
   "source": [
    "evaluate()"
   ]
  },
  {
   "cell_type": "markdown",
   "id": "4c54061a",
   "metadata": {
    "id": "4c54061a"
   },
   "source": [
    "## Step 4: Train the model"
   ]
  },
  {
   "cell_type": "code",
   "execution_count": 25,
   "id": "3638a75d",
   "metadata": {
    "id": "3638a75d"
   },
   "outputs": [],
   "source": [
    "def train_epoch():\n",
    "    model.train()\n",
    "    optimizer = torch.optim.AdamW(model.parameters(), lr=learning_rate)\n",
    "    total_loss = 0.\n",
    "    start_time = time.time()\n",
    "    for batch, i in enumerate(range(0, len(data_train) - 1, batch_size)):\n",
    "        prompts, target_answers, length_prompts, length_answers = get_batch(\"train\", i)\n",
    "        prompts = prompts.to(device) # (length_prompts, batch_size)\n",
    "        target_answers = target_answers.to(device) # (length_answers, batch_size)\n",
    "        input_tensor = torch.cat((prompts, target_answers), 0) # (length_prompts + length_answers, batch_size)\n",
    "        model.zero_grad()\n",
    "        output, _ = model(input_tensor) # (length_prompts + length_answers, batch_size, ntokens)\n",
    "        output_answers = output[length_prompts-1:-1,:,:].reshape(-1, ntokens) # (length_answers * batch_size, ntokens)\n",
    "        target_answers = target_answers.view(-1)\n",
    "        loss = F.cross_entropy(output_answers, target_answers)\n",
    "        loss.backward()\n",
    "        optimizer.step()\n",
    "\n",
    "        total_loss += loss.item()\n",
    "\n",
    "        if batch % log_interval == 0 and batch > 0:\n",
    "            cur_loss = total_loss / log_interval\n",
    "            elapsed = time.time() - start_time\n",
    "            print('| {:5d}/{:5d} batches | ms/batch {:5.2f} | loss {:5.2f} | perplexity {:8.2f}'.format(batch, len(data_train) // batch_size,\n",
    "                                                                                                        elapsed * 1000 / log_interval, cur_loss, math.exp(cur_loss)))\n",
    "            total_loss = 0\n",
    "            start_time = time.time()\n",
    "\n",
    "def train(epochs=3):\n",
    "    accuracy_v_epoch = []\n",
    "    best_test_accuracy = None\n",
    "    test_accuracy = evaluate()\n",
    "    print('-' * 89)\n",
    "    print('| initialisation | test accuracy {:5.2f}'.format(test_accuracy))\n",
    "    print('-' * 89)\n",
    "    for epoch in range(1, epochs+1):\n",
    "        epoch_start_time = time.time()\n",
    "        train_epoch()\n",
    "        test_accuracy = evaluate()\n",
    "        accuracy_v_epoch.append(test_accuracy)\n",
    "        print('-' * 89)\n",
    "        print('| end of epoch {:3d} | time: {:5.2f}s | test accuracy {:5.2f}'.format(epoch, (time.time() - epoch_start_time), test_accuracy))\n",
    "        print('-' * 89)\n",
    "        # Save the model if the test accuracy is the best we've seen so far.\n",
    "        if not best_test_accuracy or test_accuracy < best_test_accuracy:\n",
    "            with open(\"arithmetic.pt\", 'wb') as f:\n",
    "                torch.save(model, f)\n",
    "            best_test_accuracy = test_accuracy\n",
    "            \n",
    "    return accuracy_v_epoch"
   ]
  },
  {
   "cell_type": "code",
   "execution_count": 26,
   "id": "143b3951",
   "metadata": {},
   "outputs": [
    {
     "name": "stdout",
     "output_type": "stream",
     "text": [
      "Training on cuda\n"
     ]
    }
   ],
   "source": [
    "if torch.cuda.is_available():\n",
    "    device = torch.device(\"cuda\")\n",
    "else:\n",
    "    device = torch.device(\"cpu\")\n",
    "    \n",
    "print(f\"Training on {device}\")"
   ]
  },
  {
   "cell_type": "code",
   "execution_count": 27,
   "id": "25592317",
   "metadata": {},
   "outputs": [
    {
     "name": "stdout",
     "output_type": "stream",
     "text": [
      "Dataset à 3 bits : ('707+207=', '914')\n",
      "-----------------------------------------------------------------------------------------\n",
      "| initialisation | test accuracy  0.00\n",
      "-----------------------------------------------------------------------------------------\n",
      "|   200/ 3600 batches | ms/batch 20.20 | loss  1.66 | perplexity     5.25\n",
      "|   400/ 3600 batches | ms/batch 19.87 | loss  1.27 | perplexity     3.57\n",
      "|   600/ 3600 batches | ms/batch 19.87 | loss  1.14 | perplexity     3.12\n",
      "|   800/ 3600 batches | ms/batch 19.86 | loss  1.09 | perplexity     2.97\n",
      "|  1000/ 3600 batches | ms/batch 19.85 | loss  1.06 | perplexity     2.90\n",
      "|  1200/ 3600 batches | ms/batch 20.26 | loss  1.05 | perplexity     2.85\n",
      "|  1400/ 3600 batches | ms/batch 19.84 | loss  1.03 | perplexity     2.80\n",
      "|  1600/ 3600 batches | ms/batch 19.84 | loss  1.02 | perplexity     2.77\n",
      "|  1800/ 3600 batches | ms/batch 19.87 | loss  1.01 | perplexity     2.73\n",
      "|  2000/ 3600 batches | ms/batch 19.91 | loss  1.00 | perplexity     2.71\n",
      "|  2200/ 3600 batches | ms/batch 20.31 | loss  0.96 | perplexity     2.61\n",
      "|  2400/ 3600 batches | ms/batch 19.89 | loss  0.84 | perplexity     2.32\n",
      "|  2600/ 3600 batches | ms/batch 19.86 | loss  0.76 | perplexity     2.13\n",
      "|  2800/ 3600 batches | ms/batch 19.91 | loss  0.72 | perplexity     2.05\n",
      "|  3000/ 3600 batches | ms/batch 19.97 | loss  0.70 | perplexity     2.01\n",
      "|  3200/ 3600 batches | ms/batch 19.97 | loss  0.66 | perplexity     1.93\n",
      "|  3400/ 3600 batches | ms/batch 20.39 | loss  0.62 | perplexity     1.86\n",
      "-----------------------------------------------------------------------------------------\n",
      "| end of epoch   1 | time: 82.95s | test accuracy  0.24\n",
      "-----------------------------------------------------------------------------------------\n",
      "|   200/ 3600 batches | ms/batch 20.08 | loss  0.48 | perplexity     1.61\n",
      "|   400/ 3600 batches | ms/batch 20.36 | loss  0.40 | perplexity     1.49\n",
      "|   600/ 3600 batches | ms/batch 19.88 | loss  0.29 | perplexity     1.34\n",
      "|   800/ 3600 batches | ms/batch 19.88 | loss  0.23 | perplexity     1.26\n",
      "|  1000/ 3600 batches | ms/batch 19.91 | loss  0.19 | perplexity     1.21\n",
      "|  1200/ 3600 batches | ms/batch 19.92 | loss  0.16 | perplexity     1.18\n",
      "|  1400/ 3600 batches | ms/batch 19.91 | loss  0.14 | perplexity     1.15\n",
      "|  1600/ 3600 batches | ms/batch 20.41 | loss  0.13 | perplexity     1.14\n",
      "|  1800/ 3600 batches | ms/batch 20.00 | loss  0.10 | perplexity     1.11\n",
      "|  2000/ 3600 batches | ms/batch 19.93 | loss  0.10 | perplexity     1.10\n",
      "|  2200/ 3600 batches | ms/batch 19.92 | loss  0.09 | perplexity     1.09\n",
      "|  2400/ 3600 batches | ms/batch 19.92 | loss  0.09 | perplexity     1.09\n",
      "|  2600/ 3600 batches | ms/batch 19.92 | loss  0.08 | perplexity     1.08\n",
      "|  2800/ 3600 batches | ms/batch 20.34 | loss  0.10 | perplexity     1.10\n",
      "|  3000/ 3600 batches | ms/batch 19.92 | loss  0.08 | perplexity     1.08\n",
      "|  3200/ 3600 batches | ms/batch 19.93 | loss  0.06 | perplexity     1.06\n",
      "|  3400/ 3600 batches | ms/batch 19.95 | loss  0.07 | perplexity     1.07\n",
      "-----------------------------------------------------------------------------------------\n",
      "| end of epoch   2 | time: 81.31s | test accuracy  1.00\n",
      "-----------------------------------------------------------------------------------------\n",
      "|   200/ 3600 batches | ms/batch 20.03 | loss  0.07 | perplexity     1.07\n",
      "|   400/ 3600 batches | ms/batch 19.93 | loss  0.06 | perplexity     1.06\n",
      "|   600/ 3600 batches | ms/batch 19.99 | loss  0.06 | perplexity     1.06\n",
      "|   800/ 3600 batches | ms/batch 20.03 | loss  0.05 | perplexity     1.06\n",
      "|  1000/ 3600 batches | ms/batch 20.38 | loss  0.05 | perplexity     1.05\n",
      "|  1200/ 3600 batches | ms/batch 19.96 | loss  0.05 | perplexity     1.05\n",
      "|  1400/ 3600 batches | ms/batch 19.96 | loss  0.05 | perplexity     1.05\n",
      "|  1600/ 3600 batches | ms/batch 19.98 | loss  0.06 | perplexity     1.06\n",
      "|  1800/ 3600 batches | ms/batch 19.95 | loss  0.05 | perplexity     1.05\n",
      "|  2000/ 3600 batches | ms/batch 20.36 | loss  0.05 | perplexity     1.05\n",
      "|  2200/ 3600 batches | ms/batch 19.98 | loss  0.05 | perplexity     1.05\n",
      "|  2400/ 3600 batches | ms/batch 19.95 | loss  0.04 | perplexity     1.04\n",
      "|  2600/ 3600 batches | ms/batch 19.93 | loss  0.04 | perplexity     1.04\n",
      "|  2800/ 3600 batches | ms/batch 19.94 | loss  0.04 | perplexity     1.04\n",
      "|  3000/ 3600 batches | ms/batch 20.00 | loss  0.05 | perplexity     1.05\n",
      "|  3200/ 3600 batches | ms/batch 20.40 | loss  0.04 | perplexity     1.04\n",
      "|  3400/ 3600 batches | ms/batch 19.99 | loss  0.04 | perplexity     1.04\n",
      "-----------------------------------------------------------------------------------------\n",
      "| end of epoch   3 | time: 81.47s | test accuracy  1.00\n",
      "-----------------------------------------------------------------------------------------\n",
      "|   200/ 3600 batches | ms/batch 20.14 | loss  0.04 | perplexity     1.04\n",
      "|   400/ 3600 batches | ms/batch 20.48 | loss  0.04 | perplexity     1.04\n",
      "|   600/ 3600 batches | ms/batch 20.06 | loss  0.04 | perplexity     1.04\n",
      "|   800/ 3600 batches | ms/batch 20.07 | loss  0.04 | perplexity     1.04\n",
      "|  1000/ 3600 batches | ms/batch 20.07 | loss  0.04 | perplexity     1.04\n",
      "|  1200/ 3600 batches | ms/batch 20.07 | loss  0.03 | perplexity     1.03\n",
      "|  1400/ 3600 batches | ms/batch 20.49 | loss  0.03 | perplexity     1.03\n",
      "|  1600/ 3600 batches | ms/batch 20.07 | loss  0.04 | perplexity     1.04\n",
      "|  1800/ 3600 batches | ms/batch 20.08 | loss  0.03 | perplexity     1.03\n",
      "|  2000/ 3600 batches | ms/batch 20.05 | loss  0.04 | perplexity     1.04\n",
      "|  2200/ 3600 batches | ms/batch 20.05 | loss  0.03 | perplexity     1.04\n",
      "|  2400/ 3600 batches | ms/batch 20.03 | loss  0.04 | perplexity     1.04\n",
      "|  2600/ 3600 batches | ms/batch 20.32 | loss  0.04 | perplexity     1.04\n",
      "|  2800/ 3600 batches | ms/batch 19.94 | loss  0.03 | perplexity     1.03\n",
      "|  3000/ 3600 batches | ms/batch 19.93 | loss  0.03 | perplexity     1.03\n",
      "|  3200/ 3600 batches | ms/batch 19.92 | loss  0.04 | perplexity     1.04\n",
      "|  3400/ 3600 batches | ms/batch 19.92 | loss  0.03 | perplexity     1.03\n",
      "-----------------------------------------------------------------------------------------\n",
      "| end of epoch   4 | time: 81.61s | test accuracy  1.00\n",
      "-----------------------------------------------------------------------------------------\n"
     ]
    }
   ],
   "source": [
    "nbits = 3\n",
    "results = {}\n",
    "\n",
    "# create dataset\n",
    "data = []\n",
    "for _ in range(dataset_size):\n",
    "    data.append(sample_datapoint(number_bits=nbits))\n",
    "data_train = data[: int(train_proportion * dataset_size)]\n",
    "data_test = data[int(train_proportion * dataset_size):]\n",
    "\n",
    "# reporting out\n",
    "print(f\"Dataset à {nbits} bits : {data_train[0]}\")\n",
    "\n",
    "# instantiate model\n",
    "model = TransformerModel(ntoken = ntokens,\n",
    "                         ninp = 128,\n",
    "                         nhead = 16,\n",
    "                         nhid = 64,\n",
    "                         nlayers = 8)\n",
    "model.to(device)\n",
    "\n",
    "# go\n",
    "learning_rate = 1e-3\n",
    "epochs = 4\n",
    "\n",
    "acc_v_epoch = train(epochs=epochs)"
   ]
  },
  {
   "cell_type": "code",
   "execution_count": 28,
   "id": "56d9d440",
   "metadata": {
    "colab": {
     "base_uri": "https://localhost:8080/"
    },
    "id": "56d9d440",
    "outputId": "1872232b-b120-440b-e1a6-666e079efa3b"
   },
   "outputs": [
    {
     "name": "stdout",
     "output_type": "stream",
     "text": [
      "100+384=484\t actual result: 484\n",
      "15+408=649\t actual result: 423\n",
      "770+472=1242\t actual result: 1242\n",
      "874+657=1531\t actual result: 1531\n",
      "41+331=722\t actual result: 372\n",
      "122+970=1092\t actual result: 1092\n",
      "262+308=570\t actual result: 570\n",
      "493+41=904\t actual result: 534\n",
      "263+847=1110\t actual result: 1110\n",
      "385+228=613\t actual result: 613\n"
     ]
    }
   ],
   "source": [
    "model.eval()\n",
    "\n",
    "for i in range(10):\n",
    "    prompt, answers = data_test[i]\n",
    "    prompt_tensor = torch.tensor(tokenizer.encode(prompt)).view((-1,1))\n",
    "    output = generate(model, prompt_tensor, len(answers)).view((1,-1))\n",
    "    print(tokenizer.decode(output.tolist()[0]) + \"\\t actual result: \" + answers)"
   ]
  },
  {
   "cell_type": "code",
   "execution_count": 29,
   "id": "7ec1eafa",
   "metadata": {},
   "outputs": [
    {
     "data": {
      "image/png": "[encoded data removed]",
      "text/plain": [
       "<Figure size 1200x600 with 1 Axes>"
      ]
     },
     "metadata": {},
     "output_type": "display_data"
    }
   ],
   "source": [
    "fig, ax = plt.subplots(figsize=(12,6))\n",
    "\n",
    "ax.plot(acc_v_epoch, label={number_bits})\n",
    "ax.set_title(f\"test accuracy vs epoch - {nbits} bits\")\n",
    "ax.set_xlabel(f\"epochs\")\n",
    "ax.set_ylabel(f\"accuracy\")\n",
    "ax.legend()\n",
    "ax.grid(True)\n",
    "plt.show()"
   ]
  },
  {
   "cell_type": "markdown",
   "id": "25594b26",
   "metadata": {},
   "source": [
    "# Step 5 : testing with different number of bits"
   ]
  },
  {
   "cell_type": "code",
   "execution_count": 30,
   "id": "f5590bff",
   "metadata": {},
   "outputs": [
    {
     "name": "stdout",
     "output_type": "stream",
     "text": [
      "cuda\n",
      "Dataset à 3 bits : ('728+324=', '1052')\n",
      "Training 5 epochs on 3 bits\n"
     ]
    },
    {
     "name": "stderr",
     "output_type": "stream",
     "text": [
      "/home/benjamin.deporte/.conda/envs/LLM/lib/python3.12/site-packages/torch/nn/modules/transformer.py:286: UserWarning: enable_nested_tensor is True, but self.use_nested_tensor is False because encoder_layer.self_attn.batch_first was not True(use batch_first for better inference performance)\n",
      "  warnings.warn(f\"enable_nested_tensor is True, but self.use_nested_tensor is False because {why_not_sparsity_fast_path}\")\n"
     ]
    },
    {
     "name": "stdout",
     "output_type": "stream",
     "text": [
      "-----------------------------------------------------------------------------------------\n",
      "| initialisation | test accuracy  0.00\n",
      "-----------------------------------------------------------------------------------------\n",
      "|   200/ 3600 batches | ms/batch 20.43 | loss  1.64 | perplexity     5.16\n",
      "|   400/ 3600 batches | ms/batch 19.91 | loss  1.28 | perplexity     3.58\n",
      "|   600/ 3600 batches | ms/batch 19.93 | loss  1.15 | perplexity     3.16\n",
      "|   800/ 3600 batches | ms/batch 19.93 | loss  1.10 | perplexity     3.01\n",
      "|  1000/ 3600 batches | ms/batch 19.92 | loss  1.09 | perplexity     2.98\n",
      "|  1200/ 3600 batches | ms/batch 19.92 | loss  1.06 | perplexity     2.88\n",
      "|  1400/ 3600 batches | ms/batch 20.34 | loss  1.04 | perplexity     2.82\n",
      "|  1600/ 3600 batches | ms/batch 19.92 | loss  1.03 | perplexity     2.79\n",
      "|  1800/ 3600 batches | ms/batch 19.92 | loss  1.02 | perplexity     2.77\n",
      "|  2000/ 3600 batches | ms/batch 19.92 | loss  1.01 | perplexity     2.74\n",
      "|  2200/ 3600 batches | ms/batch 19.91 | loss  1.00 | perplexity     2.71\n",
      "|  2400/ 3600 batches | ms/batch 19.92 | loss  0.99 | perplexity     2.68\n",
      "|  2600/ 3600 batches | ms/batch 20.34 | loss  0.95 | perplexity     2.58\n",
      "|  2800/ 3600 batches | ms/batch 19.91 | loss  0.82 | perplexity     2.26\n",
      "|  3000/ 3600 batches | ms/batch 19.92 | loss  0.74 | perplexity     2.10\n",
      "|  3200/ 3600 batches | ms/batch 19.92 | loss  0.69 | perplexity     1.99\n",
      "|  3400/ 3600 batches | ms/batch 19.94 | loss  0.66 | perplexity     1.94\n",
      "-----------------------------------------------------------------------------------------\n",
      "| end of epoch   1 | time: 81.27s | test accuracy  0.10\n",
      "-----------------------------------------------------------------------------------------\n",
      "|   200/ 3600 batches | ms/batch 20.03 | loss  0.60 | perplexity     1.83\n",
      "|   400/ 3600 batches | ms/batch 19.93 | loss  0.56 | perplexity     1.75\n",
      "|   600/ 3600 batches | ms/batch 19.92 | loss  0.45 | perplexity     1.57\n",
      "|   800/ 3600 batches | ms/batch 20.35 | loss  0.38 | perplexity     1.46\n",
      "|  1000/ 3600 batches | ms/batch 19.93 | loss  0.26 | perplexity     1.29\n",
      "|  1200/ 3600 batches | ms/batch 19.93 | loss  0.20 | perplexity     1.23\n",
      "|  1400/ 3600 batches | ms/batch 19.92 | loss  0.18 | perplexity     1.19\n",
      "|  1600/ 3600 batches | ms/batch 19.93 | loss  0.16 | perplexity     1.17\n",
      "|  1800/ 3600 batches | ms/batch 19.95 | loss  0.15 | perplexity     1.16\n",
      "|  2000/ 3600 batches | ms/batch 20.36 | loss  0.13 | perplexity     1.14\n",
      "|  2200/ 3600 batches | ms/batch 19.90 | loss  0.12 | perplexity     1.12\n",
      "|  2400/ 3600 batches | ms/batch 19.89 | loss  0.11 | perplexity     1.11\n",
      "|  2600/ 3600 batches | ms/batch 19.90 | loss  0.10 | perplexity     1.10\n",
      "|  2800/ 3600 batches | ms/batch 19.93 | loss  0.10 | perplexity     1.10\n",
      "|  3000/ 3600 batches | ms/batch 20.35 | loss  0.09 | perplexity     1.10\n",
      "|  3200/ 3600 batches | ms/batch 19.91 | loss  0.09 | perplexity     1.09\n",
      "|  3400/ 3600 batches | ms/batch 19.91 | loss  0.09 | perplexity     1.09\n",
      "-----------------------------------------------------------------------------------------\n",
      "| end of epoch   2 | time: 81.19s | test accuracy  0.99\n",
      "-----------------------------------------------------------------------------------------\n",
      "|   200/ 3600 batches | ms/batch 20.44 | loss  0.08 | perplexity     1.09\n",
      "|   400/ 3600 batches | ms/batch 20.02 | loss  0.08 | perplexity     1.08\n",
      "|   600/ 3600 batches | ms/batch 19.99 | loss  0.07 | perplexity     1.08\n",
      "|   800/ 3600 batches | ms/batch 20.01 | loss  0.08 | perplexity     1.08\n",
      "|  1000/ 3600 batches | ms/batch 20.00 | loss  0.07 | perplexity     1.07\n",
      "|  1200/ 3600 batches | ms/batch 19.99 | loss  0.07 | perplexity     1.08\n",
      "|  1400/ 3600 batches | ms/batch 20.41 | loss  0.08 | perplexity     1.09\n",
      "|  1600/ 3600 batches | ms/batch 19.98 | loss  0.06 | perplexity     1.07\n",
      "|  1800/ 3600 batches | ms/batch 19.98 | loss  0.06 | perplexity     1.07\n",
      "|  2000/ 3600 batches | ms/batch 19.99 | loss  0.06 | perplexity     1.06\n",
      "|  2200/ 3600 batches | ms/batch 19.99 | loss  0.06 | perplexity     1.06\n",
      "|  2400/ 3600 batches | ms/batch 19.97 | loss  0.06 | perplexity     1.06\n",
      "|  2600/ 3600 batches | ms/batch 20.27 | loss  0.05 | perplexity     1.06\n",
      "|  2800/ 3600 batches | ms/batch 19.87 | loss  0.07 | perplexity     1.07\n",
      "|  3000/ 3600 batches | ms/batch 19.83 | loss  0.06 | perplexity     1.06\n",
      "|  3200/ 3600 batches | ms/batch 19.82 | loss  0.06 | perplexity     1.06\n",
      "|  3400/ 3600 batches | ms/batch 19.82 | loss  0.06 | perplexity     1.07\n",
      "-----------------------------------------------------------------------------------------\n",
      "| end of epoch   3 | time: 81.33s | test accuracy  0.99\n",
      "-----------------------------------------------------------------------------------------\n",
      "|   200/ 3600 batches | ms/batch 20.05 | loss  0.05 | perplexity     1.06\n",
      "|   400/ 3600 batches | ms/batch 19.93 | loss  0.06 | perplexity     1.06\n",
      "|   600/ 3600 batches | ms/batch 19.93 | loss  0.05 | perplexity     1.06\n",
      "|   800/ 3600 batches | ms/batch 20.35 | loss  0.05 | perplexity     1.05\n",
      "|  1000/ 3600 batches | ms/batch 19.93 | loss  0.05 | perplexity     1.05\n",
      "|  1200/ 3600 batches | ms/batch 19.94 | loss  0.05 | perplexity     1.05\n",
      "|  1400/ 3600 batches | ms/batch 19.93 | loss  0.05 | perplexity     1.05\n",
      "|  1600/ 3600 batches | ms/batch 19.94 | loss  0.05 | perplexity     1.05\n",
      "|  1800/ 3600 batches | ms/batch 19.93 | loss  0.05 | perplexity     1.06\n",
      "|  2000/ 3600 batches | ms/batch 20.35 | loss  0.06 | perplexity     1.06\n",
      "|  2200/ 3600 batches | ms/batch 19.93 | loss  0.05 | perplexity     1.05\n",
      "|  2400/ 3600 batches | ms/batch 19.94 | loss  0.05 | perplexity     1.05\n",
      "|  2600/ 3600 batches | ms/batch 19.93 | loss  0.05 | perplexity     1.05\n",
      "|  2800/ 3600 batches | ms/batch 19.95 | loss  0.05 | perplexity     1.05\n",
      "|  3000/ 3600 batches | ms/batch 20.35 | loss  0.04 | perplexity     1.04\n",
      "|  3200/ 3600 batches | ms/batch 19.94 | loss  0.04 | perplexity     1.04\n",
      "|  3400/ 3600 batches | ms/batch 19.94 | loss  0.04 | perplexity     1.04\n",
      "-----------------------------------------------------------------------------------------\n",
      "| end of epoch   4 | time: 81.27s | test accuracy  0.99\n",
      "-----------------------------------------------------------------------------------------\n",
      "|   200/ 3600 batches | ms/batch 20.45 | loss  0.04 | perplexity     1.05\n",
      "|   400/ 3600 batches | ms/batch 19.94 | loss  0.04 | perplexity     1.04\n",
      "|   600/ 3600 batches | ms/batch 19.93 | loss  0.05 | perplexity     1.05\n",
      "|   800/ 3600 batches | ms/batch 19.93 | loss  0.05 | perplexity     1.05\n",
      "|  1000/ 3600 batches | ms/batch 19.93 | loss  0.04 | perplexity     1.04\n",
      "|  1200/ 3600 batches | ms/batch 19.93 | loss  0.04 | perplexity     1.05\n",
      "|  1400/ 3600 batches | ms/batch 20.36 | loss  0.04 | perplexity     1.04\n",
      "|  1600/ 3600 batches | ms/batch 19.93 | loss  0.04 | perplexity     1.04\n",
      "|  1800/ 3600 batches | ms/batch 19.94 | loss  0.04 | perplexity     1.04\n",
      "|  2000/ 3600 batches | ms/batch 19.93 | loss  0.04 | perplexity     1.05\n",
      "|  2200/ 3600 batches | ms/batch 19.94 | loss  0.04 | perplexity     1.04\n",
      "|  2400/ 3600 batches | ms/batch 20.35 | loss  0.03 | perplexity     1.04\n",
      "|  2600/ 3600 batches | ms/batch 19.94 | loss  0.04 | perplexity     1.04\n",
      "|  2800/ 3600 batches | ms/batch 19.94 | loss  0.04 | perplexity     1.04\n",
      "|  3000/ 3600 batches | ms/batch 19.94 | loss  0.04 | perplexity     1.04\n",
      "|  3200/ 3600 batches | ms/batch 19.98 | loss  0.03 | perplexity     1.03\n",
      "|  3400/ 3600 batches | ms/batch 19.99 | loss  0.04 | perplexity     1.04\n",
      "-----------------------------------------------------------------------------------------\n",
      "| end of epoch   5 | time: 81.38s | test accuracy  1.00\n",
      "-----------------------------------------------------------------------------------------\n",
      "Dataset à 4 bits : ('7049+2857=', '9906')\n",
      "Training 5 epochs on 4 bits\n",
      "-----------------------------------------------------------------------------------------\n",
      "| initialisation | test accuracy  0.00\n",
      "-----------------------------------------------------------------------------------------\n",
      "|   200/ 3600 batches | ms/batch 20.83 | loss  1.78 | perplexity     5.94\n",
      "|   400/ 3600 batches | ms/batch 21.14 | loss  1.48 | perplexity     4.38\n",
      "|   600/ 3600 batches | ms/batch 20.69 | loss  1.34 | perplexity     3.84\n",
      "|   800/ 3600 batches | ms/batch 20.72 | loss  1.30 | perplexity     3.67\n",
      "|  1000/ 3600 batches | ms/batch 20.75 | loss  1.28 | perplexity     3.58\n",
      "|  1200/ 3600 batches | ms/batch 20.72 | loss  1.26 | perplexity     3.53\n",
      "|  1400/ 3600 batches | ms/batch 21.15 | loss  1.25 | perplexity     3.48\n",
      "|  1600/ 3600 batches | ms/batch 20.76 | loss  1.24 | perplexity     3.44\n",
      "|  1800/ 3600 batches | ms/batch 20.74 | loss  1.23 | perplexity     3.41\n",
      "|  2000/ 3600 batches | ms/batch 20.74 | loss  1.21 | perplexity     3.37\n",
      "|  2200/ 3600 batches | ms/batch 20.76 | loss  1.20 | perplexity     3.32\n",
      "|  2400/ 3600 batches | ms/batch 20.74 | loss  1.13 | perplexity     3.10\n",
      "|  2600/ 3600 batches | ms/batch 21.17 | loss  1.04 | perplexity     2.84\n",
      "|  2800/ 3600 batches | ms/batch 20.73 | loss  1.00 | perplexity     2.73\n",
      "|  3000/ 3600 batches | ms/batch 20.73 | loss  0.98 | perplexity     2.68\n",
      "|  3200/ 3600 batches | ms/batch 20.74 | loss  0.96 | perplexity     2.62\n",
      "|  3400/ 3600 batches | ms/batch 20.73 | loss  0.95 | perplexity     2.58\n",
      "-----------------------------------------------------------------------------------------\n",
      "| end of epoch   1 | time: 86.61s | test accuracy  0.01\n",
      "-----------------------------------------------------------------------------------------\n",
      "|   200/ 3600 batches | ms/batch 20.85 | loss  0.93 | perplexity     2.54\n",
      "|   400/ 3600 batches | ms/batch 20.73 | loss  0.91 | perplexity     2.49\n",
      "|   600/ 3600 batches | ms/batch 20.72 | loss  0.91 | perplexity     2.47\n",
      "|   800/ 3600 batches | ms/batch 21.16 | loss  0.90 | perplexity     2.45\n",
      "|  1000/ 3600 batches | ms/batch 20.74 | loss  0.90 | perplexity     2.45\n",
      "|  1200/ 3600 batches | ms/batch 20.74 | loss  0.89 | perplexity     2.43\n",
      "|  1400/ 3600 batches | ms/batch 20.73 | loss  0.88 | perplexity     2.42\n",
      "|  1600/ 3600 batches | ms/batch 20.76 | loss  0.88 | perplexity     2.41\n",
      "|  1800/ 3600 batches | ms/batch 20.73 | loss  0.88 | perplexity     2.40\n",
      "|  2000/ 3600 batches | ms/batch 21.17 | loss  0.87 | perplexity     2.38\n",
      "|  2200/ 3600 batches | ms/batch 20.74 | loss  0.87 | perplexity     2.39\n",
      "|  2400/ 3600 batches | ms/batch 20.74 | loss  0.87 | perplexity     2.38\n",
      "|  2600/ 3600 batches | ms/batch 20.73 | loss  0.86 | perplexity     2.36\n",
      "|  2800/ 3600 batches | ms/batch 20.73 | loss  0.86 | perplexity     2.35\n",
      "|  3000/ 3600 batches | ms/batch 20.79 | loss  0.84 | perplexity     2.33\n",
      "|  3200/ 3600 batches | ms/batch 21.24 | loss  0.78 | perplexity     2.19\n",
      "|  3400/ 3600 batches | ms/batch 20.67 | loss  0.71 | perplexity     2.03\n",
      "-----------------------------------------------------------------------------------------\n",
      "| end of epoch   2 | time: 86.47s | test accuracy  0.07\n",
      "-----------------------------------------------------------------------------------------\n",
      "|   200/ 3600 batches | ms/batch 21.22 | loss  0.65 | perplexity     1.92\n",
      "|   400/ 3600 batches | ms/batch 20.81 | loss  0.63 | perplexity     1.88\n",
      "|   600/ 3600 batches | ms/batch 20.80 | loss  0.63 | perplexity     1.87\n",
      "|   800/ 3600 batches | ms/batch 20.74 | loss  0.62 | perplexity     1.85\n",
      "|  1000/ 3600 batches | ms/batch 20.79 | loss  0.59 | perplexity     1.81\n",
      "|  1200/ 3600 batches | ms/batch 20.79 | loss  0.58 | perplexity     1.79\n",
      "|  1400/ 3600 batches | ms/batch 21.24 | loss  0.58 | perplexity     1.78\n",
      "|  1600/ 3600 batches | ms/batch 20.79 | loss  0.56 | perplexity     1.75\n",
      "|  1800/ 3600 batches | ms/batch 20.80 | loss  0.56 | perplexity     1.74\n",
      "|  2000/ 3600 batches | ms/batch 20.80 | loss  0.53 | perplexity     1.70\n",
      "|  2200/ 3600 batches | ms/batch 20.79 | loss  0.51 | perplexity     1.66\n",
      "|  2400/ 3600 batches | ms/batch 20.78 | loss  0.46 | perplexity     1.58\n",
      "|  2600/ 3600 batches | ms/batch 21.19 | loss  0.43 | perplexity     1.54\n",
      "|  2800/ 3600 batches | ms/batch 20.79 | loss  0.39 | perplexity     1.47\n",
      "|  3000/ 3600 batches | ms/batch 20.78 | loss  0.34 | perplexity     1.41\n",
      "|  3200/ 3600 batches | ms/batch 20.77 | loss  0.31 | perplexity     1.36\n",
      "|  3400/ 3600 batches | ms/batch 20.76 | loss  0.28 | perplexity     1.32\n",
      "-----------------------------------------------------------------------------------------\n",
      "| end of epoch   3 | time: 86.77s | test accuracy  0.87\n",
      "-----------------------------------------------------------------------------------------\n",
      "|   200/ 3600 batches | ms/batch 20.81 | loss  0.24 | perplexity     1.28\n",
      "|   400/ 3600 batches | ms/batch 20.79 | loss  0.22 | perplexity     1.24\n",
      "|   600/ 3600 batches | ms/batch 20.78 | loss  0.21 | perplexity     1.23\n",
      "|   800/ 3600 batches | ms/batch 21.24 | loss  0.20 | perplexity     1.22\n",
      "|  1000/ 3600 batches | ms/batch 20.75 | loss  0.19 | perplexity     1.21\n",
      "|  1200/ 3600 batches | ms/batch 20.73 | loss  0.18 | perplexity     1.19\n",
      "|  1400/ 3600 batches | ms/batch 20.72 | loss  0.17 | perplexity     1.19\n",
      "|  1600/ 3600 batches | ms/batch 20.76 | loss  0.17 | perplexity     1.18\n",
      "|  1800/ 3600 batches | ms/batch 20.78 | loss  0.16 | perplexity     1.17\n",
      "|  2000/ 3600 batches | ms/batch 21.22 | loss  0.15 | perplexity     1.16\n",
      "|  2200/ 3600 batches | ms/batch 20.78 | loss  0.15 | perplexity     1.16\n",
      "|  2400/ 3600 batches | ms/batch 20.74 | loss  0.15 | perplexity     1.16\n",
      "|  2600/ 3600 batches | ms/batch 20.68 | loss  0.14 | perplexity     1.15\n",
      "|  2800/ 3600 batches | ms/batch 20.73 | loss  0.13 | perplexity     1.14\n",
      "|  3000/ 3600 batches | ms/batch 20.72 | loss  0.13 | perplexity     1.14\n",
      "|  3200/ 3600 batches | ms/batch 21.16 | loss  0.13 | perplexity     1.14\n",
      "|  3400/ 3600 batches | ms/batch 20.74 | loss  0.12 | perplexity     1.13\n",
      "-----------------------------------------------------------------------------------------\n",
      "| end of epoch   4 | time: 86.61s | test accuracy  0.91\n",
      "-----------------------------------------------------------------------------------------\n",
      "|   200/ 3600 batches | ms/batch 21.33 | loss  0.13 | perplexity     1.14\n",
      "|   400/ 3600 batches | ms/batch 20.79 | loss  0.12 | perplexity     1.13\n",
      "|   600/ 3600 batches | ms/batch 20.79 | loss  0.13 | perplexity     1.14\n",
      "|   800/ 3600 batches | ms/batch 20.79 | loss  0.12 | perplexity     1.13\n",
      "|  1000/ 3600 batches | ms/batch 20.78 | loss  0.12 | perplexity     1.13\n",
      "|  1200/ 3600 batches | ms/batch 20.79 | loss  0.13 | perplexity     1.14\n",
      "|  1400/ 3600 batches | ms/batch 21.21 | loss  0.11 | perplexity     1.12\n",
      "|  1600/ 3600 batches | ms/batch 20.78 | loss  0.11 | perplexity     1.12\n",
      "|  1800/ 3600 batches | ms/batch 20.78 | loss  0.11 | perplexity     1.12\n",
      "|  2000/ 3600 batches | ms/batch 20.78 | loss  0.11 | perplexity     1.12\n",
      "|  2200/ 3600 batches | ms/batch 20.78 | loss  0.11 | perplexity     1.12\n",
      "|  2400/ 3600 batches | ms/batch 20.78 | loss  0.11 | perplexity     1.12\n",
      "|  2600/ 3600 batches | ms/batch 21.24 | loss  0.11 | perplexity     1.12\n",
      "|  2800/ 3600 batches | ms/batch 20.78 | loss  0.12 | perplexity     1.12\n",
      "|  3000/ 3600 batches | ms/batch 20.77 | loss  0.11 | perplexity     1.11\n",
      "|  3200/ 3600 batches | ms/batch 20.78 | loss  0.10 | perplexity     1.11\n",
      "|  3400/ 3600 batches | ms/batch 20.78 | loss  0.11 | perplexity     1.11\n",
      "-----------------------------------------------------------------------------------------\n",
      "| end of epoch   5 | time: 86.81s | test accuracy  0.91\n",
      "-----------------------------------------------------------------------------------------\n",
      "Dataset à 5 bits : ('24135+95238=', '119373')\n",
      "Training 10 epochs on 5 bits\n",
      "-----------------------------------------------------------------------------------------\n",
      "| initialisation | test accuracy  0.00\n",
      "-----------------------------------------------------------------------------------------\n",
      "|   200/ 3600 batches | ms/batch 22.26 | loss  1.93 | perplexity     6.90\n",
      "|   400/ 3600 batches | ms/batch 22.59 | loss  1.56 | perplexity     4.77\n",
      "|   600/ 3600 batches | ms/batch 22.13 | loss  1.48 | perplexity     4.40\n",
      "|   800/ 3600 batches | ms/batch 22.16 | loss  1.44 | perplexity     4.23\n",
      "|  1000/ 3600 batches | ms/batch 22.17 | loss  1.42 | perplexity     4.14\n",
      "|  1200/ 3600 batches | ms/batch 22.18 | loss  1.41 | perplexity     4.08\n",
      "|  1400/ 3600 batches | ms/batch 22.56 | loss  1.40 | perplexity     4.04\n",
      "|  1600/ 3600 batches | ms/batch 22.12 | loss  1.39 | perplexity     4.01\n",
      "|  1800/ 3600 batches | ms/batch 22.12 | loss  1.38 | perplexity     3.96\n",
      "|  2000/ 3600 batches | ms/batch 22.13 | loss  1.37 | perplexity     3.94\n",
      "|  2200/ 3600 batches | ms/batch 22.13 | loss  1.36 | perplexity     3.89\n",
      "|  2400/ 3600 batches | ms/batch 22.18 | loss  1.27 | perplexity     3.55\n",
      "|  2600/ 3600 batches | ms/batch 22.60 | loss  1.19 | perplexity     3.30\n",
      "|  2800/ 3600 batches | ms/batch 22.15 | loss  1.16 | perplexity     3.20\n",
      "|  3000/ 3600 batches | ms/batch 22.15 | loss  1.15 | perplexity     3.17\n",
      "|  3200/ 3600 batches | ms/batch 22.17 | loss  1.14 | perplexity     3.11\n",
      "|  3400/ 3600 batches | ms/batch 22.17 | loss  1.12 | perplexity     3.07\n",
      "-----------------------------------------------------------------------------------------\n",
      "| end of epoch   1 | time: 94.28s | test accuracy  0.00\n",
      "-----------------------------------------------------------------------------------------\n",
      "|   200/ 3600 batches | ms/batch 22.28 | loss  1.11 | perplexity     3.04\n",
      "|   400/ 3600 batches | ms/batch 22.17 | loss  1.10 | perplexity     3.01\n",
      "|   600/ 3600 batches | ms/batch 22.16 | loss  1.09 | perplexity     2.98\n",
      "|   800/ 3600 batches | ms/batch 22.62 | loss  1.08 | perplexity     2.96\n",
      "|  1000/ 3600 batches | ms/batch 22.16 | loss  1.08 | perplexity     2.96\n",
      "|  1200/ 3600 batches | ms/batch 22.17 | loss  1.08 | perplexity     2.95\n",
      "|  1400/ 3600 batches | ms/batch 22.16 | loss  1.10 | perplexity     2.99\n",
      "|  1600/ 3600 batches | ms/batch 22.17 | loss  1.08 | perplexity     2.96\n",
      "|  1800/ 3600 batches | ms/batch 22.17 | loss  1.08 | perplexity     2.95\n",
      "|  2000/ 3600 batches | ms/batch 22.54 | loss  1.07 | perplexity     2.92\n",
      "|  2200/ 3600 batches | ms/batch 22.11 | loss  1.07 | perplexity     2.91\n",
      "|  2400/ 3600 batches | ms/batch 22.12 | loss  1.06 | perplexity     2.90\n",
      "|  2600/ 3600 batches | ms/batch 22.12 | loss  1.06 | perplexity     2.90\n",
      "|  2800/ 3600 batches | ms/batch 22.16 | loss  1.06 | perplexity     2.89\n",
      "|  3000/ 3600 batches | ms/batch 22.16 | loss  1.06 | perplexity     2.88\n",
      "|  3200/ 3600 batches | ms/batch 22.56 | loss  1.06 | perplexity     2.88\n",
      "|  3400/ 3600 batches | ms/batch 22.10 | loss  1.05 | perplexity     2.86\n",
      "-----------------------------------------------------------------------------------------\n",
      "| end of epoch   2 | time: 94.12s | test accuracy  0.00\n",
      "-----------------------------------------------------------------------------------------\n",
      "|   200/ 3600 batches | ms/batch 22.18 | loss  0.97 | perplexity     2.64\n",
      "|   400/ 3600 batches | ms/batch 22.52 | loss  0.93 | perplexity     2.52\n",
      "|   600/ 3600 batches | ms/batch 22.04 | loss  0.91 | perplexity     2.48\n",
      "|   800/ 3600 batches | ms/batch 22.05 | loss  0.89 | perplexity     2.43\n",
      "|  1000/ 3600 batches | ms/batch 22.05 | loss  0.88 | perplexity     2.41\n",
      "|  1200/ 3600 batches | ms/batch 22.05 | loss  0.87 | perplexity     2.39\n",
      "|  1400/ 3600 batches | ms/batch 22.47 | loss  0.87 | perplexity     2.38\n",
      "|  1600/ 3600 batches | ms/batch 22.04 | loss  0.86 | perplexity     2.35\n",
      "|  1800/ 3600 batches | ms/batch 22.05 | loss  0.85 | perplexity     2.33\n",
      "|  2000/ 3600 batches | ms/batch 22.05 | loss  0.86 | perplexity     2.36\n",
      "|  2200/ 3600 batches | ms/batch 22.05 | loss  0.84 | perplexity     2.31\n",
      "|  2400/ 3600 batches | ms/batch 22.05 | loss  0.83 | perplexity     2.29\n",
      "|  2600/ 3600 batches | ms/batch 22.47 | loss  0.82 | perplexity     2.28\n",
      "|  2800/ 3600 batches | ms/batch 22.05 | loss  0.82 | perplexity     2.27\n",
      "|  3000/ 3600 batches | ms/batch 22.04 | loss  0.81 | perplexity     2.26\n",
      "|  3200/ 3600 batches | ms/batch 22.04 | loss  0.82 | perplexity     2.27\n",
      "|  3400/ 3600 batches | ms/batch 22.04 | loss  0.82 | perplexity     2.26\n",
      "-----------------------------------------------------------------------------------------\n",
      "| end of epoch   3 | time: 93.86s | test accuracy  0.00\n",
      "-----------------------------------------------------------------------------------------\n",
      "|   200/ 3600 batches | ms/batch 22.16 | loss  0.81 | perplexity     2.25\n",
      "|   400/ 3600 batches | ms/batch 22.04 | loss  0.80 | perplexity     2.22\n",
      "|   600/ 3600 batches | ms/batch 22.05 | loss  0.80 | perplexity     2.23\n",
      "|   800/ 3600 batches | ms/batch 22.47 | loss  0.80 | perplexity     2.23\n",
      "|  1000/ 3600 batches | ms/batch 22.05 | loss  0.79 | perplexity     2.21\n",
      "|  1200/ 3600 batches | ms/batch 22.09 | loss  0.79 | perplexity     2.20\n",
      "|  1400/ 3600 batches | ms/batch 22.11 | loss  0.78 | perplexity     2.19\n",
      "|  1600/ 3600 batches | ms/batch 22.05 | loss  0.78 | perplexity     2.19\n",
      "|  1800/ 3600 batches | ms/batch 22.05 | loss  0.78 | perplexity     2.19\n",
      "|  2000/ 3600 batches | ms/batch 22.51 | loss  0.78 | perplexity     2.19\n",
      "|  2200/ 3600 batches | ms/batch 22.07 | loss  0.78 | perplexity     2.18\n",
      "|  2400/ 3600 batches | ms/batch 22.10 | loss  0.78 | perplexity     2.17\n",
      "|  2600/ 3600 batches | ms/batch 22.09 | loss  0.78 | perplexity     2.18\n",
      "|  2800/ 3600 batches | ms/batch 22.09 | loss  0.77 | perplexity     2.17\n",
      "|  3000/ 3600 batches | ms/batch 22.10 | loss  0.77 | perplexity     2.17\n",
      "|  3200/ 3600 batches | ms/batch 22.54 | loss  0.77 | perplexity     2.16\n",
      "|  3400/ 3600 batches | ms/batch 22.09 | loss  0.76 | perplexity     2.13\n",
      "-----------------------------------------------------------------------------------------\n",
      "| end of epoch   4 | time: 93.87s | test accuracy  0.03\n",
      "-----------------------------------------------------------------------------------------\n",
      "|   200/ 3600 batches | ms/batch 22.59 | loss  0.70 | perplexity     2.01\n",
      "|   400/ 3600 batches | ms/batch 22.05 | loss  0.67 | perplexity     1.95\n",
      "|   600/ 3600 batches | ms/batch 22.07 | loss  0.65 | perplexity     1.91\n",
      "|   800/ 3600 batches | ms/batch 22.07 | loss  0.64 | perplexity     1.89\n",
      "|  1000/ 3600 batches | ms/batch 22.09 | loss  0.62 | perplexity     1.85\n",
      "|  1200/ 3600 batches | ms/batch 22.12 | loss  0.61 | perplexity     1.84\n",
      "|  1400/ 3600 batches | ms/batch 22.55 | loss  0.59 | perplexity     1.80\n",
      "|  1600/ 3600 batches | ms/batch 22.09 | loss  0.58 | perplexity     1.78\n",
      "|  1800/ 3600 batches | ms/batch 22.09 | loss  0.57 | perplexity     1.77\n",
      "|  2000/ 3600 batches | ms/batch 22.09 | loss  0.57 | perplexity     1.77\n",
      "|  2200/ 3600 batches | ms/batch 22.09 | loss  0.56 | perplexity     1.75\n",
      "|  2400/ 3600 batches | ms/batch 22.10 | loss  0.55 | perplexity     1.73\n",
      "|  2600/ 3600 batches | ms/batch 22.56 | loss  0.55 | perplexity     1.73\n",
      "|  2800/ 3600 batches | ms/batch 22.06 | loss  0.54 | perplexity     1.71\n",
      "|  3000/ 3600 batches | ms/batch 22.06 | loss  0.54 | perplexity     1.71\n",
      "|  3200/ 3600 batches | ms/batch 22.06 | loss  0.53 | perplexity     1.71\n",
      "|  3400/ 3600 batches | ms/batch 22.06 | loss  0.52 | perplexity     1.69\n",
      "-----------------------------------------------------------------------------------------\n",
      "| end of epoch   5 | time: 93.98s | test accuracy  0.08\n",
      "-----------------------------------------------------------------------------------------\n",
      "|   200/ 3600 batches | ms/batch 22.16 | loss  0.52 | perplexity     1.68\n",
      "|   400/ 3600 batches | ms/batch 22.08 | loss  0.50 | perplexity     1.66\n",
      "|   600/ 3600 batches | ms/batch 22.05 | loss  0.51 | perplexity     1.66\n",
      "|   800/ 3600 batches | ms/batch 22.46 | loss  0.50 | perplexity     1.64\n",
      "|  1000/ 3600 batches | ms/batch 22.05 | loss  0.49 | perplexity     1.64\n",
      "|  1200/ 3600 batches | ms/batch 22.11 | loss  0.49 | perplexity     1.64\n",
      "|  1400/ 3600 batches | ms/batch 22.10 | loss  0.50 | perplexity     1.64\n",
      "|  1600/ 3600 batches | ms/batch 22.08 | loss  0.49 | perplexity     1.63\n",
      "|  1800/ 3600 batches | ms/batch 22.09 | loss  0.48 | perplexity     1.62\n",
      "|  2000/ 3600 batches | ms/batch 22.54 | loss  0.48 | perplexity     1.61\n",
      "|  2200/ 3600 batches | ms/batch 22.09 | loss  0.47 | perplexity     1.61\n",
      "|  2400/ 3600 batches | ms/batch 22.09 | loss  0.47 | perplexity     1.60\n",
      "|  2600/ 3600 batches | ms/batch 22.07 | loss  0.47 | perplexity     1.60\n",
      "|  2800/ 3600 batches | ms/batch 22.06 | loss  0.47 | perplexity     1.60\n",
      "|  3000/ 3600 batches | ms/batch 22.54 | loss  0.47 | perplexity     1.60\n",
      "|  3200/ 3600 batches | ms/batch 22.10 | loss  0.46 | perplexity     1.58\n",
      "|  3400/ 3600 batches | ms/batch 22.09 | loss  0.45 | perplexity     1.57\n",
      "-----------------------------------------------------------------------------------------\n",
      "| end of epoch   6 | time: 93.90s | test accuracy  0.23\n",
      "-----------------------------------------------------------------------------------------\n",
      "|   200/ 3600 batches | ms/batch 22.66 | loss  0.42 | perplexity     1.52\n",
      "|   400/ 3600 batches | ms/batch 22.06 | loss  0.38 | perplexity     1.46\n",
      "|   600/ 3600 batches | ms/batch 22.07 | loss  0.36 | perplexity     1.44\n",
      "|   800/ 3600 batches | ms/batch 22.11 | loss  0.34 | perplexity     1.40\n",
      "|  1000/ 3600 batches | ms/batch 22.07 | loss  0.33 | perplexity     1.39\n",
      "|  1200/ 3600 batches | ms/batch 22.05 | loss  0.28 | perplexity     1.32\n",
      "|  1400/ 3600 batches | ms/batch 22.47 | loss  0.27 | perplexity     1.31\n",
      "|  1600/ 3600 batches | ms/batch 22.05 | loss  0.24 | perplexity     1.27\n",
      "|  1800/ 3600 batches | ms/batch 22.05 | loss  0.21 | perplexity     1.24\n",
      "|  2000/ 3600 batches | ms/batch 22.05 | loss  0.21 | perplexity     1.23\n",
      "|  2200/ 3600 batches | ms/batch 22.05 | loss  0.20 | perplexity     1.22\n",
      "|  2400/ 3600 batches | ms/batch 22.51 | loss  0.19 | perplexity     1.21\n",
      "|  2600/ 3600 batches | ms/batch 22.08 | loss  0.18 | perplexity     1.20\n",
      "|  2800/ 3600 batches | ms/batch 22.10 | loss  0.18 | perplexity     1.20\n",
      "|  3000/ 3600 batches | ms/batch 22.06 | loss  0.18 | perplexity     1.19\n",
      "|  3200/ 3600 batches | ms/batch 22.06 | loss  0.18 | perplexity     1.19\n",
      "|  3400/ 3600 batches | ms/batch 22.06 | loss  0.17 | perplexity     1.18\n",
      "-----------------------------------------------------------------------------------------\n",
      "| end of epoch   7 | time: 93.94s | test accuracy  0.90\n",
      "-----------------------------------------------------------------------------------------\n",
      "|   200/ 3600 batches | ms/batch 22.19 | loss  0.17 | perplexity     1.18\n",
      "|   400/ 3600 batches | ms/batch 22.10 | loss  0.16 | perplexity     1.17\n",
      "|   600/ 3600 batches | ms/batch 22.10 | loss  0.16 | perplexity     1.17\n",
      "|   800/ 3600 batches | ms/batch 22.54 | loss  0.15 | perplexity     1.17\n",
      "|  1000/ 3600 batches | ms/batch 22.11 | loss  0.16 | perplexity     1.17\n",
      "|  1200/ 3600 batches | ms/batch 22.09 | loss  0.15 | perplexity     1.16\n",
      "|  1400/ 3600 batches | ms/batch 22.09 | loss  0.15 | perplexity     1.16\n",
      "|  1600/ 3600 batches | ms/batch 22.07 | loss  0.15 | perplexity     1.16\n",
      "|  1800/ 3600 batches | ms/batch 22.07 | loss  0.14 | perplexity     1.15\n",
      "|  2000/ 3600 batches | ms/batch 22.50 | loss  0.15 | perplexity     1.16\n",
      "|  2200/ 3600 batches | ms/batch 22.07 | loss  0.15 | perplexity     1.16\n",
      "|  2400/ 3600 batches | ms/batch 22.06 | loss  0.16 | perplexity     1.17\n",
      "|  2600/ 3600 batches | ms/batch 22.07 | loss  0.15 | perplexity     1.16\n",
      "|  2800/ 3600 batches | ms/batch 22.07 | loss  0.14 | perplexity     1.15\n",
      "|  3000/ 3600 batches | ms/batch 22.49 | loss  0.14 | perplexity     1.15\n",
      "|  3200/ 3600 batches | ms/batch 22.07 | loss  0.14 | perplexity     1.15\n",
      "|  3400/ 3600 batches | ms/batch 22.06 | loss  0.14 | perplexity     1.15\n",
      "-----------------------------------------------------------------------------------------\n",
      "| end of epoch   8 | time: 93.89s | test accuracy  0.90\n",
      "-----------------------------------------------------------------------------------------\n",
      "|   200/ 3600 batches | ms/batch 22.62 | loss  0.13 | perplexity     1.14\n",
      "|   400/ 3600 batches | ms/batch 22.09 | loss  0.13 | perplexity     1.14\n",
      "|   600/ 3600 batches | ms/batch 22.10 | loss  0.14 | perplexity     1.15\n",
      "|   800/ 3600 batches | ms/batch 22.07 | loss  0.13 | perplexity     1.14\n",
      "|  1000/ 3600 batches | ms/batch 22.07 | loss  0.12 | perplexity     1.13\n",
      "|  1200/ 3600 batches | ms/batch 22.07 | loss  0.13 | perplexity     1.14\n",
      "|  1400/ 3600 batches | ms/batch 22.55 | loss  0.13 | perplexity     1.13\n",
      "|  1600/ 3600 batches | ms/batch 22.10 | loss  0.12 | perplexity     1.13\n",
      "|  1800/ 3600 batches | ms/batch 22.09 | loss  0.13 | perplexity     1.14\n",
      "|  2000/ 3600 batches | ms/batch 22.13 | loss  0.13 | perplexity     1.14\n",
      "|  2200/ 3600 batches | ms/batch 22.11 | loss  0.12 | perplexity     1.13\n",
      "|  2400/ 3600 batches | ms/batch 22.56 | loss  0.12 | perplexity     1.13\n",
      "|  2600/ 3600 batches | ms/batch 22.08 | loss  0.12 | perplexity     1.13\n",
      "|  2800/ 3600 batches | ms/batch 22.06 | loss  0.12 | perplexity     1.13\n",
      "|  3000/ 3600 batches | ms/batch 22.05 | loss  0.16 | perplexity     1.18\n",
      "|  3200/ 3600 batches | ms/batch 22.06 | loss  0.12 | perplexity     1.13\n",
      "|  3400/ 3600 batches | ms/batch 22.06 | loss  0.12 | perplexity     1.13\n",
      "-----------------------------------------------------------------------------------------\n",
      "| end of epoch   9 | time: 94.00s | test accuracy  0.90\n",
      "-----------------------------------------------------------------------------------------\n",
      "|   200/ 3600 batches | ms/batch 22.17 | loss  0.12 | perplexity     1.13\n",
      "|   400/ 3600 batches | ms/batch 22.06 | loss  0.12 | perplexity     1.12\n",
      "|   600/ 3600 batches | ms/batch 22.10 | loss  0.13 | perplexity     1.13\n",
      "|   800/ 3600 batches | ms/batch 22.57 | loss  0.11 | perplexity     1.12\n",
      "|  1000/ 3600 batches | ms/batch 22.16 | loss  0.12 | perplexity     1.13\n",
      "|  1200/ 3600 batches | ms/batch 22.14 | loss  0.12 | perplexity     1.13\n",
      "|  1400/ 3600 batches | ms/batch 22.11 | loss  0.12 | perplexity     1.12\n",
      "|  1600/ 3600 batches | ms/batch 22.11 | loss  0.12 | perplexity     1.12\n",
      "|  1800/ 3600 batches | ms/batch 22.54 | loss  0.11 | perplexity     1.12\n",
      "|  2000/ 3600 batches | ms/batch 22.07 | loss  0.12 | perplexity     1.12\n",
      "|  2200/ 3600 batches | ms/batch 22.07 | loss  0.11 | perplexity     1.12\n",
      "|  2400/ 3600 batches | ms/batch 22.07 | loss  0.11 | perplexity     1.12\n",
      "|  2600/ 3600 batches | ms/batch 22.07 | loss  0.12 | perplexity     1.13\n",
      "|  2800/ 3600 batches | ms/batch 22.08 | loss  0.12 | perplexity     1.12\n",
      "|  3000/ 3600 batches | ms/batch 22.51 | loss  0.11 | perplexity     1.12\n",
      "|  3200/ 3600 batches | ms/batch 22.04 | loss  0.11 | perplexity     1.11\n",
      "|  3400/ 3600 batches | ms/batch 22.04 | loss  0.12 | perplexity     1.13\n",
      "-----------------------------------------------------------------------------------------\n",
      "| end of epoch  10 | time: 93.91s | test accuracy  0.90\n",
      "-----------------------------------------------------------------------------------------\n",
      "Dataset à 9 bits : ('696612120+927632409=', '1624244529')\n",
      "Training 10 epochs on 9 bits\n",
      "-----------------------------------------------------------------------------------------\n",
      "| initialisation | test accuracy  0.00\n",
      "-----------------------------------------------------------------------------------------\n",
      "|   200/ 3600 batches | ms/batch 26.43 | loss  2.11 | perplexity     8.21\n",
      "|   400/ 3600 batches | ms/batch 26.30 | loss  1.89 | perplexity     6.61\n",
      "|   600/ 3600 batches | ms/batch 26.30 | loss  1.80 | perplexity     6.07\n",
      "|   800/ 3600 batches | ms/batch 26.79 | loss  1.77 | perplexity     5.86\n",
      "|  1000/ 3600 batches | ms/batch 26.29 | loss  1.75 | perplexity     5.76\n",
      "|  1200/ 3600 batches | ms/batch 26.29 | loss  1.74 | perplexity     5.71\n",
      "|  1400/ 3600 batches | ms/batch 26.30 | loss  1.73 | perplexity     5.65\n",
      "|  1600/ 3600 batches | ms/batch 26.30 | loss  1.73 | perplexity     5.61\n",
      "|  1800/ 3600 batches | ms/batch 26.30 | loss  1.72 | perplexity     5.59\n",
      "|  2000/ 3600 batches | ms/batch 26.78 | loss  1.71 | perplexity     5.55\n",
      "|  2200/ 3600 batches | ms/batch 26.30 | loss  1.71 | perplexity     5.52\n",
      "|  2400/ 3600 batches | ms/batch 26.31 | loss  1.70 | perplexity     5.50\n",
      "|  2600/ 3600 batches | ms/batch 26.32 | loss  1.68 | perplexity     5.38\n",
      "|  2800/ 3600 batches | ms/batch 26.32 | loss  1.61 | perplexity     5.03\n",
      "|  3000/ 3600 batches | ms/batch 26.31 | loss  1.59 | perplexity     4.88\n",
      "|  3200/ 3600 batches | ms/batch 26.79 | loss  1.57 | perplexity     4.81\n",
      "|  3400/ 3600 batches | ms/batch 26.30 | loss  1.56 | perplexity     4.75\n",
      "-----------------------------------------------------------------------------------------\n",
      "| end of epoch   1 | time: 121.87s | test accuracy  0.00\n",
      "-----------------------------------------------------------------------------------------\n",
      "|   200/ 3600 batches | ms/batch 26.97 | loss  1.56 | perplexity     4.74\n",
      "|   400/ 3600 batches | ms/batch 26.32 | loss  1.54 | perplexity     4.67\n",
      "|   600/ 3600 batches | ms/batch 26.32 | loss  1.54 | perplexity     4.64\n",
      "|   800/ 3600 batches | ms/batch 26.32 | loss  1.53 | perplexity     4.63\n",
      "|  1000/ 3600 batches | ms/batch 26.32 | loss  1.53 | perplexity     4.61\n",
      "|  1200/ 3600 batches | ms/batch 26.33 | loss  1.52 | perplexity     4.60\n",
      "|  1400/ 3600 batches | ms/batch 26.84 | loss  1.53 | perplexity     4.61\n",
      "|  1600/ 3600 batches | ms/batch 26.33 | loss  1.52 | perplexity     4.58\n",
      "|  1800/ 3600 batches | ms/batch 26.34 | loss  1.52 | perplexity     4.56\n",
      "|  2000/ 3600 batches | ms/batch 26.34 | loss  1.51 | perplexity     4.55\n",
      "|  2200/ 3600 batches | ms/batch 26.35 | loss  1.52 | perplexity     4.55\n",
      "|  2400/ 3600 batches | ms/batch 26.35 | loss  1.51 | perplexity     4.53\n",
      "|  2600/ 3600 batches | ms/batch 26.85 | loss  1.51 | perplexity     4.52\n",
      "|  2800/ 3600 batches | ms/batch 26.35 | loss  1.51 | perplexity     4.53\n",
      "|  3000/ 3600 batches | ms/batch 26.32 | loss  1.51 | perplexity     4.54\n",
      "|  3200/ 3600 batches | ms/batch 26.31 | loss  1.51 | perplexity     4.52\n",
      "|  3400/ 3600 batches | ms/batch 26.31 | loss  1.51 | perplexity     4.52\n",
      "-----------------------------------------------------------------------------------------\n",
      "| end of epoch   2 | time: 122.08s | test accuracy  0.00\n",
      "-----------------------------------------------------------------------------------------\n",
      "|   200/ 3600 batches | ms/batch 26.48 | loss  1.52 | perplexity     4.56\n",
      "|   400/ 3600 batches | ms/batch 26.36 | loss  1.50 | perplexity     4.50\n",
      "|   600/ 3600 batches | ms/batch 26.33 | loss  1.50 | perplexity     4.50\n",
      "|   800/ 3600 batches | ms/batch 26.86 | loss  1.51 | perplexity     4.52\n",
      "|  1000/ 3600 batches | ms/batch 26.35 | loss  1.51 | perplexity     4.51\n",
      "|  1200/ 3600 batches | ms/batch 26.34 | loss  1.50 | perplexity     4.49\n",
      "|  1400/ 3600 batches | ms/batch 26.33 | loss  1.50 | perplexity     4.48\n",
      "|  1600/ 3600 batches | ms/batch 26.33 | loss  1.50 | perplexity     4.49\n",
      "|  1800/ 3600 batches | ms/batch 26.33 | loss  1.50 | perplexity     4.49\n",
      "|  2000/ 3600 batches | ms/batch 26.83 | loss  1.50 | perplexity     4.48\n",
      "|  2200/ 3600 batches | ms/batch 26.33 | loss  1.50 | perplexity     4.47\n",
      "|  2400/ 3600 batches | ms/batch 26.33 | loss  1.49 | perplexity     4.42\n",
      "|  2600/ 3600 batches | ms/batch 26.35 | loss  1.47 | perplexity     4.34\n",
      "|  2800/ 3600 batches | ms/batch 26.35 | loss  1.44 | perplexity     4.24\n",
      "|  3000/ 3600 batches | ms/batch 26.83 | loss  1.43 | perplexity     4.16\n",
      "|  3200/ 3600 batches | ms/batch 26.33 | loss  1.41 | perplexity     4.11\n",
      "|  3400/ 3600 batches | ms/batch 26.35 | loss  1.40 | perplexity     4.05\n",
      "-----------------------------------------------------------------------------------------\n",
      "| end of epoch   3 | time: 122.03s | test accuracy  0.00\n",
      "-----------------------------------------------------------------------------------------\n",
      "|   200/ 3600 batches | ms/batch 27.01 | loss  1.39 | perplexity     4.01\n",
      "|   400/ 3600 batches | ms/batch 26.35 | loss  1.37 | perplexity     3.95\n",
      "|   600/ 3600 batches | ms/batch 26.36 | loss  1.37 | perplexity     3.94\n",
      "|   800/ 3600 batches | ms/batch 26.35 | loss  1.37 | perplexity     3.92\n",
      "|  1000/ 3600 batches | ms/batch 26.37 | loss  1.36 | perplexity     3.90\n",
      "|  1200/ 3600 batches | ms/batch 26.36 | loss  1.36 | perplexity     3.89\n",
      "|  1400/ 3600 batches | ms/batch 26.84 | loss  1.36 | perplexity     3.89\n",
      "|  1600/ 3600 batches | ms/batch 26.37 | loss  1.36 | perplexity     3.88\n",
      "|  1800/ 3600 batches | ms/batch 26.35 | loss  1.36 | perplexity     3.91\n",
      "|  2000/ 3600 batches | ms/batch 26.30 | loss  1.35 | perplexity     3.87\n",
      "|  2200/ 3600 batches | ms/batch 26.36 | loss  1.34 | perplexity     3.83\n",
      "|  2400/ 3600 batches | ms/batch 26.87 | loss  1.35 | perplexity     3.84\n",
      "|  2600/ 3600 batches | ms/batch 26.34 | loss  1.35 | perplexity     3.84\n",
      "|  2800/ 3600 batches | ms/batch 26.35 | loss  1.34 | perplexity     3.82\n",
      "|  3000/ 3600 batches | ms/batch 26.35 | loss  1.34 | perplexity     3.81\n",
      "|  3200/ 3600 batches | ms/batch 26.37 | loss  1.35 | perplexity     3.85\n",
      "|  3400/ 3600 batches | ms/batch 26.36 | loss  1.34 | perplexity     3.84\n",
      "-----------------------------------------------------------------------------------------\n",
      "| end of epoch   4 | time: 122.19s | test accuracy  0.00\n",
      "-----------------------------------------------------------------------------------------\n",
      "|   200/ 3600 batches | ms/batch 26.62 | loss  1.34 | perplexity     3.84\n",
      "|   400/ 3600 batches | ms/batch 26.49 | loss  1.34 | perplexity     3.81\n",
      "|   600/ 3600 batches | ms/batch 26.48 | loss  1.34 | perplexity     3.81\n",
      "|   800/ 3600 batches | ms/batch 26.89 | loss  1.33 | perplexity     3.79\n",
      "|  1000/ 3600 batches | ms/batch 26.36 | loss  1.33 | perplexity     3.78\n",
      "|  1200/ 3600 batches | ms/batch 26.35 | loss  1.33 | perplexity     3.78\n",
      "|  1400/ 3600 batches | ms/batch 26.37 | loss  1.33 | perplexity     3.80\n",
      "|  1600/ 3600 batches | ms/batch 26.37 | loss  1.33 | perplexity     3.78\n",
      "|  1800/ 3600 batches | ms/batch 26.90 | loss  1.33 | perplexity     3.78\n",
      "|  2000/ 3600 batches | ms/batch 26.36 | loss  1.33 | perplexity     3.77\n",
      "|  2200/ 3600 batches | ms/batch 26.34 | loss  1.33 | perplexity     3.78\n",
      "|  2400/ 3600 batches | ms/batch 26.34 | loss  1.33 | perplexity     3.77\n",
      "|  2600/ 3600 batches | ms/batch 26.36 | loss  1.32 | perplexity     3.76\n",
      "|  2800/ 3600 batches | ms/batch 26.35 | loss  1.32 | perplexity     3.75\n",
      "|  3000/ 3600 batches | ms/batch 26.84 | loss  1.33 | perplexity     3.77\n",
      "|  3200/ 3600 batches | ms/batch 26.32 | loss  1.32 | perplexity     3.75\n",
      "|  3400/ 3600 batches | ms/batch 26.34 | loss  1.32 | perplexity     3.74\n",
      "-----------------------------------------------------------------------------------------\n",
      "| end of epoch   5 | time: 122.20s | test accuracy  0.00\n",
      "-----------------------------------------------------------------------------------------\n",
      "|   200/ 3600 batches | ms/batch 27.07 | loss  1.33 | perplexity     3.77\n",
      "|   400/ 3600 batches | ms/batch 26.41 | loss  1.32 | perplexity     3.75\n",
      "|   600/ 3600 batches | ms/batch 26.40 | loss  1.33 | perplexity     3.76\n",
      "|   800/ 3600 batches | ms/batch 26.40 | loss  1.32 | perplexity     3.76\n",
      "|  1000/ 3600 batches | ms/batch 26.40 | loss  1.32 | perplexity     3.75\n",
      "|  1200/ 3600 batches | ms/batch 26.40 | loss  1.32 | perplexity     3.75\n",
      "|  1400/ 3600 batches | ms/batch 26.91 | loss  1.32 | perplexity     3.75\n",
      "|  1600/ 3600 batches | ms/batch 26.40 | loss  1.32 | perplexity     3.74\n",
      "|  1800/ 3600 batches | ms/batch 26.40 | loss  1.32 | perplexity     3.75\n",
      "|  2000/ 3600 batches | ms/batch 26.42 | loss  1.32 | perplexity     3.73\n",
      "|  2200/ 3600 batches | ms/batch 26.43 | loss  1.31 | perplexity     3.72\n",
      "|  2400/ 3600 batches | ms/batch 26.94 | loss  1.32 | perplexity     3.76\n",
      "|  2600/ 3600 batches | ms/batch 26.42 | loss  1.32 | perplexity     3.75\n",
      "|  2800/ 3600 batches | ms/batch 26.41 | loss  1.32 | perplexity     3.74\n",
      "|  3000/ 3600 batches | ms/batch 26.42 | loss  1.32 | perplexity     3.74\n",
      "|  3200/ 3600 batches | ms/batch 26.43 | loss  1.32 | perplexity     3.73\n",
      "|  3400/ 3600 batches | ms/batch 26.40 | loss  1.32 | perplexity     3.74\n",
      "-----------------------------------------------------------------------------------------\n",
      "| end of epoch   6 | time: 122.46s | test accuracy  0.00\n",
      "-----------------------------------------------------------------------------------------\n",
      "|   200/ 3600 batches | ms/batch 26.57 | loss  1.32 | perplexity     3.75\n",
      "|   400/ 3600 batches | ms/batch 26.46 | loss  1.32 | perplexity     3.73\n",
      "|   600/ 3600 batches | ms/batch 26.45 | loss  1.32 | perplexity     3.74\n",
      "|   800/ 3600 batches | ms/batch 26.97 | loss  1.32 | perplexity     3.75\n",
      "|  1000/ 3600 batches | ms/batch 26.43 | loss  1.32 | perplexity     3.74\n",
      "|  1200/ 3600 batches | ms/batch 26.40 | loss  1.31 | perplexity     3.72\n",
      "|  1400/ 3600 batches | ms/batch 26.39 | loss  1.32 | perplexity     3.73\n",
      "|  1600/ 3600 batches | ms/batch 26.43 | loss  1.31 | perplexity     3.71\n",
      "|  1800/ 3600 batches | ms/batch 26.94 | loss  1.31 | perplexity     3.71\n",
      "|  2000/ 3600 batches | ms/batch 26.39 | loss  1.31 | perplexity     3.71\n",
      "|  2200/ 3600 batches | ms/batch 26.39 | loss  1.31 | perplexity     3.70\n",
      "|  2400/ 3600 batches | ms/batch 26.42 | loss  1.32 | perplexity     3.74\n",
      "|  2600/ 3600 batches | ms/batch 26.42 | loss  1.31 | perplexity     3.71\n",
      "|  2800/ 3600 batches | ms/batch 26.39 | loss  1.32 | perplexity     3.75\n",
      "|  3000/ 3600 batches | ms/batch 26.85 | loss  1.31 | perplexity     3.72\n",
      "|  3200/ 3600 batches | ms/batch 26.27 | loss  1.31 | perplexity     3.72\n",
      "|  3400/ 3600 batches | ms/batch 26.27 | loss  1.31 | perplexity     3.72\n",
      "-----------------------------------------------------------------------------------------\n",
      "| end of epoch   7 | time: 122.30s | test accuracy  0.00\n",
      "-----------------------------------------------------------------------------------------\n",
      "|   200/ 3600 batches | ms/batch 27.01 | loss  1.31 | perplexity     3.72\n",
      "|   400/ 3600 batches | ms/batch 26.37 | loss  1.31 | perplexity     3.69\n",
      "|   600/ 3600 batches | ms/batch 26.37 | loss  1.30 | perplexity     3.68\n",
      "|   800/ 3600 batches | ms/batch 26.37 | loss  1.29 | perplexity     3.65\n",
      "|  1000/ 3600 batches | ms/batch 26.37 | loss  1.28 | perplexity     3.60\n",
      "|  1200/ 3600 batches | ms/batch 26.87 | loss  1.26 | perplexity     3.52\n",
      "|  1400/ 3600 batches | ms/batch 26.38 | loss  1.24 | perplexity     3.47\n",
      "|  1600/ 3600 batches | ms/batch 26.37 | loss  1.24 | perplexity     3.45\n",
      "|  1800/ 3600 batches | ms/batch 26.37 | loss  1.22 | perplexity     3.40\n",
      "|  2000/ 3600 batches | ms/batch 26.38 | loss  1.22 | perplexity     3.39\n",
      "|  2200/ 3600 batches | ms/batch 26.38 | loss  1.21 | perplexity     3.35\n",
      "|  2400/ 3600 batches | ms/batch 26.82 | loss  1.21 | perplexity     3.34\n",
      "|  2600/ 3600 batches | ms/batch 26.24 | loss  1.21 | perplexity     3.34\n",
      "|  2800/ 3600 batches | ms/batch 26.23 | loss  1.20 | perplexity     3.32\n",
      "|  3000/ 3600 batches | ms/batch 26.23 | loss  1.19 | perplexity     3.30\n",
      "|  3200/ 3600 batches | ms/batch 26.23 | loss  1.19 | perplexity     3.28\n",
      "|  3400/ 3600 batches | ms/batch 26.24 | loss  1.19 | perplexity     3.30\n",
      "-----------------------------------------------------------------------------------------\n",
      "| end of epoch   8 | time: 122.12s | test accuracy  0.00\n",
      "-----------------------------------------------------------------------------------------\n",
      "|   200/ 3600 batches | ms/batch 26.52 | loss  1.19 | perplexity     3.30\n",
      "|   400/ 3600 batches | ms/batch 26.37 | loss  1.18 | perplexity     3.25\n",
      "|   600/ 3600 batches | ms/batch 26.88 | loss  1.17 | perplexity     3.24\n",
      "|   800/ 3600 batches | ms/batch 26.38 | loss  1.18 | perplexity     3.25\n",
      "|  1000/ 3600 batches | ms/batch 26.37 | loss  1.17 | perplexity     3.23\n",
      "|  1200/ 3600 batches | ms/batch 26.40 | loss  1.17 | perplexity     3.22\n",
      "|  1400/ 3600 batches | ms/batch 26.37 | loss  1.17 | perplexity     3.22\n",
      "|  1600/ 3600 batches | ms/batch 26.37 | loss  1.17 | perplexity     3.22\n",
      "|  1800/ 3600 batches | ms/batch 26.83 | loss  1.17 | perplexity     3.22\n",
      "|  2000/ 3600 batches | ms/batch 26.24 | loss  1.17 | perplexity     3.21\n",
      "|  2200/ 3600 batches | ms/batch 26.26 | loss  1.16 | perplexity     3.19\n",
      "|  2400/ 3600 batches | ms/batch 26.28 | loss  1.16 | perplexity     3.18\n",
      "|  2600/ 3600 batches | ms/batch 26.27 | loss  1.16 | perplexity     3.18\n",
      "|  2800/ 3600 batches | ms/batch 26.27 | loss  1.16 | perplexity     3.18\n",
      "|  3000/ 3600 batches | ms/batch 26.74 | loss  1.15 | perplexity     3.17\n",
      "|  3200/ 3600 batches | ms/batch 26.24 | loss  1.17 | perplexity     3.22\n",
      "|  3400/ 3600 batches | ms/batch 26.24 | loss  1.15 | perplexity     3.17\n",
      "-----------------------------------------------------------------------------------------\n",
      "| end of epoch   9 | time: 122.00s | test accuracy  0.00\n",
      "-----------------------------------------------------------------------------------------\n",
      "|   200/ 3600 batches | ms/batch 26.96 | loss  1.16 | perplexity     3.18\n",
      "|   400/ 3600 batches | ms/batch 26.35 | loss  1.15 | perplexity     3.15\n",
      "|   600/ 3600 batches | ms/batch 26.35 | loss  1.14 | perplexity     3.14\n",
      "|   800/ 3600 batches | ms/batch 26.35 | loss  1.14 | perplexity     3.14\n",
      "|  1000/ 3600 batches | ms/batch 26.36 | loss  1.14 | perplexity     3.13\n",
      "|  1200/ 3600 batches | ms/batch 26.85 | loss  1.15 | perplexity     3.15\n",
      "|  1400/ 3600 batches | ms/batch 26.35 | loss  1.15 | perplexity     3.14\n",
      "|  1600/ 3600 batches | ms/batch 26.38 | loss  1.14 | perplexity     3.13\n",
      "|  1800/ 3600 batches | ms/batch 26.39 | loss  1.14 | perplexity     3.12\n",
      "|  2000/ 3600 batches | ms/batch 26.41 | loss  1.14 | perplexity     3.12\n",
      "|  2200/ 3600 batches | ms/batch 26.39 | loss  1.14 | perplexity     3.12\n",
      "|  2400/ 3600 batches | ms/batch 26.90 | loss  1.13 | perplexity     3.10\n",
      "|  2600/ 3600 batches | ms/batch 26.35 | loss  1.13 | perplexity     3.10\n",
      "|  2800/ 3600 batches | ms/batch 26.35 | loss  1.14 | perplexity     3.11\n",
      "|  3000/ 3600 batches | ms/batch 26.35 | loss  1.13 | perplexity     3.09\n",
      "|  3200/ 3600 batches | ms/batch 26.34 | loss  1.13 | perplexity     3.10\n",
      "|  3400/ 3600 batches | ms/batch 26.35 | loss  1.13 | perplexity     3.11\n",
      "-----------------------------------------------------------------------------------------\n",
      "| end of epoch  10 | time: 122.25s | test accuracy  0.00\n",
      "-----------------------------------------------------------------------------------------\n"
     ]
    }
   ],
   "source": [
    "device = torch.device(\"cuda\" if torch.cuda.is_available() else \"cpu\")\n",
    "print(device)\n",
    "\n",
    "list_nbits = [3,4,5,9]\n",
    "list_epochs = [5,5,10,10]\n",
    "results = {}\n",
    "\n",
    "for epochs, nbits in zip(list_epochs,list_nbits):\n",
    "    # create dataset\n",
    "    data = []\n",
    "    for _ in range(dataset_size):\n",
    "        data.append(sample_datapoint(number_bits=nbits))\n",
    "    data_train = data[: int(train_proportion * dataset_size)]\n",
    "    data_test = data[int(train_proportion * dataset_size):]\n",
    "    # reporting out\n",
    "    print(f\"Dataset à {nbits} bits : {data_train[0]}\")\n",
    "    # instantiate model\n",
    "    model = TransformerModel(ntoken = ntokens,\n",
    "                         ninp = 128,\n",
    "                         nhead = 16,\n",
    "                         nhid = 64,\n",
    "                         nlayers = 8)\n",
    "    model.to(device)\n",
    "    # get training results\n",
    "    print(f\"Training {epochs} epochs on {nbits} bits\")\n",
    "    results[nbits] = train(epochs=epochs)"
   ]
  },
  {
   "cell_type": "code",
   "execution_count": 31,
   "id": "83f49838",
   "metadata": {},
   "outputs": [
    {
     "data": {
      "image/png": "[encoded data removed]",
      "text/plain": [
       "<Figure size 1200x600 with 1 Axes>"
      ]
     },
     "metadata": {},
     "output_type": "display_data"
    }
   ],
   "source": [
    "fig, ax = plt.subplots(figsize=(12,6))\n",
    "\n",
    "for r, accs in results.items():\n",
    "    ax.plot(accs, label=f\"{r}-bits\")\n",
    "    \n",
    "ax.set_title(f\"test accuracy vs epoch\")\n",
    "ax.set_xlabel(f\"epochs\")\n",
    "ax.set_ylabel(f\"accuracy\")\n",
    "ax.legend()\n",
    "ax.grid(True)\n",
    "plt.show()"
   ]
  },
  {
   "cell_type": "markdown",
   "id": "qJ9IOZu8Xo4Y",
   "metadata": {
    "id": "qJ9IOZu8Xo4Y"
   },
   "source": [
    "## Probing"
   ]
  },
  {
   "cell_type": "markdown",
   "id": "78be1213",
   "metadata": {},
   "source": [
    "This is just for fun..."
   ]
  },
  {
   "cell_type": "code",
   "execution_count": 32,
   "id": "yomPfirhXkLb",
   "metadata": {
    "id": "yomPfirhXkLb"
   },
   "outputs": [],
   "source": [
    "import numpy as np\n",
    "\n",
    "train_size = 1000\n",
    "test_size = 100\n",
    "\n",
    "model.eval()\n",
    "\n",
    "def data_probing(size):\n",
    "    X = []\n",
    "    y = np.zeros(size)\n",
    "    for i in range(size):\n",
    "        input = torch.tensor(tokenizer.encode(data[i][0])).view((-1, 1)).to(device)\n",
    "        _, output = model(input)\n",
    "        output = output[-1,:,:].flatten()\n",
    "        # determine whether there was a carry in the result:\n",
    "        carry = len(data[i][1]) > len(data[i][0]) / 2\n",
    "        X.append(output.cpu().detach().numpy())\n",
    "        y[i] = carry\n",
    "    return np.array(X), y"
   ]
  },
  {
   "cell_type": "code",
   "execution_count": 33,
   "id": "QGmfXVxkppfP",
   "metadata": {
    "colab": {
     "base_uri": "https://localhost:8080/"
    },
    "id": "QGmfXVxkppfP",
    "outputId": "6601c884-004f-40bb-8a1a-71995b17d860"
   },
   "outputs": [
    {
     "data": {
      "text/plain": [
       "0.98"
      ]
     },
     "execution_count": 33,
     "metadata": {},
     "output_type": "execute_result"
    }
   ],
   "source": [
    "from sklearn.linear_model import LogisticRegression\n",
    "from sklearn.preprocessing import StandardScaler\n",
    "\n",
    "X_train, y_train = data_probing(train_size)\n",
    "X_test, y_test = data_probing(test_size)\n",
    "\n",
    "scaler = StandardScaler()\n",
    "X_train = scaler.fit_transform(X_train)\n",
    "X_test = scaler.fit_transform(X_test)\n",
    "\n",
    "reg = LogisticRegression()\n",
    "reg.fit(X_train,y_train)\n",
    "reg.score(X_test, y_test)"
   ]
  }
 ],
 "metadata": {
  "accelerator": "GPU",
  "colab": {
   "gpuType": "T4",
   "provenance": []
  },
  "kernelspec": {
   "display_name": "LLM",
   "language": "python",
   "name": "python3"
  },
  "language_info": {
   "codemirror_mode": {
    "name": "ipython",
    "version": 3
   },
   "file_extension": ".py",
   "mimetype": "text/x-python",
   "name": "python",
   "nbconvert_exporter": "python",
   "pygments_lexer": "ipython3",
   "version": "3.12.2"
  }
 },
 "nbformat": 4,
 "nbformat_minor": 5
}
